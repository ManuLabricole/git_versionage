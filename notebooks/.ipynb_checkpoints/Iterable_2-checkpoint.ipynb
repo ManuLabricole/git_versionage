{
 "cells": [
  {
   "cell_type": "code",
   "execution_count": 1,
   "id": "076f8f13",
   "metadata": {},
   "outputs": [],
   "source": [
    "import csv\n",
    "import numpy as np\n",
    "import matplotlib.pyplot as plt\n",
    "import matplotlib\n",
    "from colorama import Fore, Back, Style\n"
   ]
  },
  {
   "cell_type": "markdown",
   "id": "7354adb5",
   "metadata": {},
   "source": [
    "# Import csv"
   ]
  },
  {
   "cell_type": "code",
   "execution_count": 2,
   "id": "9aa1f848",
   "metadata": {},
   "outputs": [],
   "source": [
    "with open('../data/ESP_PUBLIC.IDENTITE_ARBRE.csv', newline='', encoding='utf-8-sig') as csvfile:\n",
    "    # use \",\" separator to generate column value as list element\n",
    "    # cs.reader return a class object of \"_csv.reader\"\n",
    "    dataTemp = csv.reader(csvfile, delimiter=',')\n",
    "    \n",
    "    # Use list() to convert the csv object into a list, of list, depending on how the object is built\n",
    "    # Hard to understand how list(csv_object) behaves \n",
    "    data = list(dataTemp)"
   ]
  },
  {
   "cell_type": "markdown",
   "id": "0f4b5f59",
   "metadata": {},
   "source": [
    "### Utils"
   ]
  },
  {
   "cell_type": "code",
   "execution_count": 3,
   "id": "a489b32f",
   "metadata": {},
   "outputs": [],
   "source": [
    "def add_missing_value(dataset:list) -> list:\n",
    "    datasetCopy = dataset\n",
    "    \n",
    "    if len(datasetCopy[len(datasetCopy)-1]) == 31:\n",
    "        datasetCopy[len(datasetCopy)-1].insert(0, \"30032\")\n",
    "        print(f\"Added a value in : {datasetCopy[len(datasetCopy)-1]}\")\n",
    "    #else:\n",
    "    #   print(f\"{datasetCopy[len(datasetCopy)-1]} was already added...\")\n",
    "    #   print(f\"{len(datasetCopy)-1} is the last rows of the dataset and should start with 'MISSING' value\")\n",
    "\n",
    "    return datasetCopy"
   ]
  },
  {
   "cell_type": "code",
   "execution_count": 4,
   "id": "85ff2b0f",
   "metadata": {},
   "outputs": [],
   "source": [
    "def get_header(data:list) -> list:\n",
    "    if len(data) > 0:\n",
    "        return data[0]\n",
    "    else:\n",
    "        raise ValueError(\"The dataset sent is empty...\")"
   ]
  },
  {
   "cell_type": "code",
   "execution_count": 5,
   "id": "990bc41b",
   "metadata": {},
   "outputs": [],
   "source": [
    "def get_dict_colName_colNum(data:list) -> dict:\n",
    "    dictTemp = {}\n",
    "    \n",
    "    for el in get_header(data):\n",
    "        dictTemp[el] = get_header(data).index(el)\n",
    "        \n",
    "    return dictTemp\n",
    "# print(get_dict_colName_colNum(dataset))"
   ]
  },
  {
   "cell_type": "code",
   "execution_count": 6,
   "id": "5a03151d",
   "metadata": {},
   "outputs": [],
   "source": [
    "def is_in_header(colName:str, data:list) -> bool:\n",
    "    return colName in get_header(data)\n",
    "# print(is_in_header(\"GENRE_DESC\", dataset))"
   ]
  },
  {
   "cell_type": "code",
   "execution_count": 7,
   "id": "8a7b92f5",
   "metadata": {},
   "outputs": [],
   "source": [
    "red = \"\\033[1;31m\"\n",
    "blue = \"\\033[1;34m\"\n",
    "green = \"\\033[1;32m\"\n",
    "no_color = \"\\033[0m\"\n",
    "\n",
    "def print_dict(dictToPrint:dict):\n",
    "    for key in dictToPrint.keys () :\n",
    "        print (red, key, blue, out [key])\n",
    "    print (no_color)"
   ]
  },
  {
   "cell_type": "code",
   "execution_count": 8,
   "id": "13f7596f",
   "metadata": {},
   "outputs": [
    {
     "name": "stdout",
     "output_type": "stream",
     "text": [
      "Added a value in : ['30032', 'ESP14073', 'ESP14073', 'VEG', 'VEGETATION', 'ESP01', 'Arbre', 'ESP151', 'Arbre de voirie', 'ESP336', 'R M Gontard angle M Deprez', '2', 'AR14073', 'Prunus', 'serrulata', '', 'Arbre adulte', '', '', '1995', '', '', '', '', '', '', '', '', '', '', 'Grenoble Alpes Métropole', '{\"type\":\"Point\",\"coordinates\":[5.72422659146747,45.1920566916671]}']\n"
     ]
    }
   ],
   "source": [
    "dataset = add_missing_value(data)"
   ]
  },
  {
   "cell_type": "markdown",
   "id": "acecffa7",
   "metadata": {},
   "source": [
    "# Enoncé"
   ]
  },
  {
   "cell_type": "markdown",
   "id": "04a2e17c",
   "metadata": {},
   "source": [
    "Objectifs de l’activité\n",
    "\n",
    "● Analyser la répartition des espèces d’arbres à Grenoble, l’évolution de cette\n",
    "diversité au cours du temps, comparaison avec les objectifs de la Métro en termes\n",
    "de diversification des espèces.\n",
    "\n",
    "● Utilisation d’autres structures de données : Sets, Dict\n",
    "\n",
    "Contexte\n",
    "Diversifier les essences d’arbres en ville est crucial pour de nombreuses raisons :\n",
    "résilience des écosystèmes urbains, lutte contre les îlots de chaleur, renouvellement de\n",
    "l’air, etc. Or, le constat fait par la Métropole d"
   ]
  },
  {
   "cell_type": "markdown",
   "id": "97415498",
   "metadata": {},
   "source": [
    "## ● Pour commencer, identifiez tous les genres botaniques représentés à Grenoble.\n",
    "Combien y en a-t-il ? Essayez plusieurs manières de résoudre ce problème."
   ]
  },
  {
   "cell_type": "markdown",
   "id": "cf3cd78a",
   "metadata": {},
   "source": [
    "## Utils"
   ]
  },
  {
   "cell_type": "code",
   "execution_count": 9,
   "id": "c73f2c20",
   "metadata": {},
   "outputs": [],
   "source": [
    "def get_col_value_from_name(colName:str, data:list) -> str:\n",
    "    \n",
    "    if is_in_header(colName, data):\n",
    "        return get_dict_colName_colNum(data)[colName]"
   ]
  },
  {
   "cell_type": "code",
   "execution_count": 10,
   "id": "75cab286",
   "metadata": {},
   "outputs": [],
   "source": [
    "def get_col_values(colName:str, data:list) -> list:\n",
    "    \n",
    "    col = [el[get_col_value_from_name(colName, data)] for el in data]\n",
    "    \n",
    "    return col"
   ]
  },
  {
   "cell_type": "code",
   "execution_count": 11,
   "id": "ab837e78",
   "metadata": {},
   "outputs": [],
   "source": [
    "def extract_different_values(column:list, columnDict:dict) -> list:\n",
    "    noNanList = []\n",
    "    if column[0] in columnDict.keys():\n",
    "        #print(f\"{column[0]} is a Header not a value...\")\n",
    "        setList = list(set(column[1:]))\n",
    "        \n",
    "        for el in setList:\n",
    "            if not el:\n",
    "                pass\n",
    "            else:\n",
    "                noNanList.append(el)\n",
    "    return noNanList"
   ]
  },
  {
   "cell_type": "markdown",
   "id": "360b5a15",
   "metadata": {},
   "source": [
    "## Computation"
   ]
  },
  {
   "cell_type": "markdown",
   "id": "9720de68",
   "metadata": {},
   "source": [
    "#### Extract column genre_bota values"
   ]
  },
  {
   "cell_type": "code",
   "execution_count": 12,
   "id": "1249ce77",
   "metadata": {},
   "outputs": [
    {
     "name": "stdout",
     "output_type": "stream",
     "text": [
      "\u001b[1;34m  There are --> 119 <-- different Genre Botanic\n"
     ]
    }
   ],
   "source": [
    "columnDict = get_dict_colName_colNum(dataset)\n",
    "colGenreBota = get_col_values(colName = \"GENRE_BOTA\", data = dataset)\n",
    "genreBotaList = extract_different_values(column = colGenreBota, columnDict = columnDict)\n",
    "print(blue, f\" There are --> {len(genreBotaList)} <-- different Genre Botanic\")"
   ]
  },
  {
   "cell_type": "markdown",
   "id": "db58e04b",
   "metadata": {},
   "source": [
    "## ● Identifiez maintenant toutes les espèces différentes présentes à Grenoble.\n",
    "N’oubliez pas que les espèces sont une sous catégorie de genre botanique !\n",
    "(l’espèce est ‘Platanus Acerifolia’ et pas uniquement ‘Acerifolia’)"
   ]
  },
  {
   "cell_type": "code",
   "execution_count": 13,
   "id": "c16728f8",
   "metadata": {},
   "outputs": [
    {
     "name": "stdout",
     "output_type": "stream",
     "text": [
      "\u001b[1;34m  There are --> 280 <-- different Genre Botanic\n"
     ]
    }
   ],
   "source": [
    "colEspece = get_col_values(colName = \"ESPECE\",data = dataset)\n",
    "especeList = extract_different_values(column = colEspece, columnDict = columnDict)\n",
    "print(blue, f\" There are --> {len(especeList)} <-- different Genre Botanic\")"
   ]
  },
  {
   "cell_type": "markdown",
   "id": "538aa379",
   "metadata": {},
   "source": [
    "## ● En utilisant la structure de données Dict compter le nombre de représentants de chaque genre botanique :"
   ]
  },
  {
   "cell_type": "markdown",
   "id": "2e311a7d",
   "metadata": {},
   "source": [
    "### ○ Quel est le genre botanique le plus représenté ?"
   ]
  },
  {
   "cell_type": "code",
   "execution_count": 14,
   "id": "2d178fd1",
   "metadata": {},
   "outputs": [],
   "source": [
    "def count_values_in_col(column:list) -> dict:\n",
    "    dictOfValue = {}\n",
    "    for el in column[1:]:\n",
    "        # If the key is \"\" we donèt take into account\n",
    "        if el:\n",
    "            if el not in dictOfValue.keys():\n",
    "                dictOfValue[el] = 1\n",
    "            else:\n",
    "                dictOfValue[el] += 1\n",
    "    return dictOfValue"
   ]
  },
  {
   "cell_type": "code",
   "execution_count": 15,
   "id": "ce8ff457",
   "metadata": {},
   "outputs": [],
   "source": [
    "dictGenreBota_value = count_values_in_col(colGenreBota)"
   ]
  },
  {
   "cell_type": "code",
   "execution_count": 16,
   "id": "8a6d45d9",
   "metadata": {},
   "outputs": [
    {
     "name": "stdout",
     "output_type": "stream",
     "text": [
      "\n",
      " \u001b[1;34m The botanic genre --> Acer <-- is the more represented with --> 5055 <-- trees.\n"
     ]
    }
   ],
   "source": [
    "max_value = max(dictGenreBota_value, key=lambda x:dictGenreBota_value[x])\n",
    "\n",
    "print(\"\\n\", blue, f\"The botanic genre --> {max_value} <-- is the more represented with --> {dictGenreBota_value[max_value]} <-- trees.\")\n"
   ]
  },
  {
   "cell_type": "markdown",
   "id": "0c55bfbb",
   "metadata": {},
   "source": [
    "### ○ Listez tous les représentants uniques de leurs genre botanique"
   ]
  },
  {
   "cell_type": "code",
   "execution_count": 17,
   "id": "907f958a",
   "metadata": {},
   "outputs": [],
   "source": [
    "unique = [el for el in dictGenreBota_value if dictGenreBota_value[el] == 1]"
   ]
  },
  {
   "cell_type": "code",
   "execution_count": 18,
   "id": "efd534d1",
   "metadata": {},
   "outputs": [
    {
     "name": "stdout",
     "output_type": "stream",
     "text": [
      "\u001b[1;34m Acacia \u001b[1;31m 1\n",
      "\u001b[1;34m Pseudotsuga \u001b[1;31m 1\n",
      "\u001b[1;34m Poncinos \u001b[1;31m 1\n",
      "\u001b[1;34m Sciadopitys \u001b[1;31m 1\n",
      "\u001b[1;34m Sorbopyrus \u001b[1;31m 1\n",
      "\u001b[1;34m Eucalyptus \u001b[1;31m 1\n",
      "\u001b[1;34m Castanea \u001b[1;31m 1\n",
      "\u001b[1;34m Sterculia \u001b[1;31m 1\n",
      "\u001b[1;34m Laurus \u001b[1;31m 1\n",
      "\u001b[1;34m Staphylea \u001b[1;31m 1\n",
      "\u001b[1;34m Rhamnus \u001b[1;31m 1\n",
      "\u001b[1;34m Nyssa \u001b[1;31m 1\n",
      "\n",
      "\n",
      "\u001b[1;34m There are :  \u001b[1;31m 12 \u001b[1;34m  genre represented by only one tree.\n",
      " For a total of  \u001b[1;31m 119 \u001b[1;34m different genre\n"
     ]
    }
   ],
   "source": [
    "for el in unique:\n",
    "    print(blue, el, red, \"1\")\n",
    "print(\"\\n\")\n",
    "print(blue,\"There are : \", red, len(unique), blue, \" genre represented by only one tree.\")\n",
    "print(\" For a total of \", red, len(dictGenreBota_value), blue, \"different genre\")"
   ]
  },
  {
   "cell_type": "markdown",
   "id": "be5920fc",
   "metadata": {},
   "source": [
    "### ○ Classer tous les genres botaniques en fonction de leur nombre (ordre décroissant)"
   ]
  },
  {
   "cell_type": "markdown",
   "id": "7dea90f9",
   "metadata": {},
   "source": [
    "Play with the parameter \"reverse\" to reverse the sorting output"
   ]
  },
  {
   "cell_type": "code",
   "execution_count": 19,
   "id": "73823cd4",
   "metadata": {},
   "outputs": [],
   "source": [
    "dictGenreBota_value_sorted = dict(sorted(dictGenreBota_value.items(), key=lambda x:x[1], reverse=True))\n",
    "#dictGenreBota_value_sorted = dict(sorted(dictGenreBota_value.items(), key=lambda x:x[1], reverse=False))"
   ]
  },
  {
   "cell_type": "code",
   "execution_count": 20,
   "id": "1fe6f762",
   "metadata": {},
   "outputs": [],
   "source": [
    "# dictGenreBota_value_sorted"
   ]
  },
  {
   "cell_type": "markdown",
   "id": "da2a4bb1",
   "metadata": {},
   "source": [
    "### ○ Quelle est la proportion du genre botanique le plus représenté parmi tous les genres ?"
   ]
  },
  {
   "cell_type": "code",
   "execution_count": 21,
   "id": "ca48ab91",
   "metadata": {},
   "outputs": [
    {
     "data": {
      "text/plain": [
       "5055"
      ]
     },
     "execution_count": 21,
     "metadata": {},
     "output_type": "execute_result"
    }
   ],
   "source": [
    "max(dictGenreBota_value_sorted.values())"
   ]
  },
  {
   "cell_type": "code",
   "execution_count": 22,
   "id": "99c7399a",
   "metadata": {},
   "outputs": [],
   "source": [
    "def compute_proportion(rawDict:dict) -> dict:\n",
    "    \n",
    "    totalSpecies = sum([int(el) for el in rawDict.values()])\n",
    "    dictTemp = {}\n",
    "\n",
    "    for key in rawDict.keys():\n",
    "        dictTemp[key] = {\n",
    "            \"number\" : int(rawDict[key]),\n",
    "            \"proportion\" : round(float(rawDict[key]/totalSpecies)*100, 3)\n",
    "        }\n",
    "    \n",
    "    return dictTemp"
   ]
  },
  {
   "cell_type": "code",
   "execution_count": 23,
   "id": "81f05184",
   "metadata": {},
   "outputs": [],
   "source": [
    "proportionGenreBotaDict = compute_proportion(dictGenreBota_value_sorted)"
   ]
  },
  {
   "cell_type": "code",
   "execution_count": 24,
   "id": "3f2db31d",
   "metadata": {},
   "outputs": [
    {
     "name": "stdout",
     "output_type": "stream",
     "text": [
      "\u001b[1;34m The higher proportion of a botanic genre is -->  \u001b[1;31m 16.473 \u001b[1;34m %\n",
      "\u001b[1;34m For the species :  \u001b[1;31m Acer\n"
     ]
    }
   ],
   "source": [
    "max_proportion_genre = max(proportionGenreBotaDict, key=lambda x:proportionGenreBotaDict[x][\"proportion\"])\n",
    "print(blue, \"The higher proportion of a botanic genre is --> \", red, proportionGenreBotaDict[max_proportion_genre][\"proportion\"], blue, \"%\")\n",
    "print(blue, \"For the species : \", red, max_proportion_genre)"
   ]
  },
  {
   "cell_type": "markdown",
   "id": "27ffb5cf",
   "metadata": {},
   "source": [
    "### ○ Les objectifs de la Métro sont-ils respectés en termes de diversité ?\n",
    "    1 --> Max species proportion = 10%\n",
    "    2 --> Max genre botanic proportion = 20%"
   ]
  },
  {
   "cell_type": "markdown",
   "id": "cb9106bb",
   "metadata": {},
   "source": [
    "#### Study Espece column"
   ]
  },
  {
   "cell_type": "code",
   "execution_count": 25,
   "id": "344d8be1",
   "metadata": {},
   "outputs": [
    {
     "name": "stdout",
     "output_type": "stream",
     "text": [
      "\u001b[1;34m  There are -->  \u001b[1;31m 280 \u001b[1;34m  <-- different species\n"
     ]
    }
   ],
   "source": [
    "colEspece = get_col_values(colName = \"ESPECE\",data = dataset)\n",
    "especeList = extract_different_values(column = colEspece, columnDict = columnDict)\n",
    "print(blue, \" There are --> \", red, len(especeList), blue, \" <-- different species\")"
   ]
  },
  {
   "cell_type": "code",
   "execution_count": 26,
   "id": "670e3695",
   "metadata": {},
   "outputs": [],
   "source": [
    "dictEspece_value = count_values_in_col(colEspece)"
   ]
  },
  {
   "cell_type": "code",
   "execution_count": 27,
   "id": "15e0c361",
   "metadata": {},
   "outputs": [
    {
     "name": "stdout",
     "output_type": "stream",
     "text": [
      "\n",
      " \u001b[1;34m The Espece -->  \u001b[1;31m acerifolia \u001b[1;34m  <-- is the more represented with -->  \u001b[1;31m 3813 \u001b[1;34m  <-- trees.\n"
     ]
    }
   ],
   "source": [
    "max_value_espece = max(dictEspece_value, key=lambda x:dictEspece_value[x])\n",
    "print(\"\\n\", blue, \"The Espece --> \", red, max_value_espece, blue, \" <-- is the more represented with --> \", red, dictEspece_value[max_value_espece], blue, \" <-- trees.\")"
   ]
  },
  {
   "cell_type": "code",
   "execution_count": 28,
   "id": "0f4852b3",
   "metadata": {},
   "outputs": [],
   "source": [
    "uniqueSpecies = [el for el in dictEspece_value if dictEspece_value[el] == 1]"
   ]
  },
  {
   "cell_type": "code",
   "execution_count": 29,
   "id": "f2a72fb8",
   "metadata": {},
   "outputs": [],
   "source": [
    "def display_uniqueSpecies():\n",
    "    for el in uniqueSpecies:\n",
    "        print(blue, el, red, \"1\")\n",
    "    print(\"\\n\")\n",
    "    print(blue,\"There are : \", red, len(uniqueSpecies), blue, \" species represented by only one tree.\")\n",
    "    print(\" For a total of \", red, len(dictEspece_value), blue, \"different species\")\n",
    "# display_uniqueSpecies    "
   ]
  },
  {
   "cell_type": "code",
   "execution_count": 30,
   "id": "d24cbd5b",
   "metadata": {},
   "outputs": [
    {
     "data": {
      "text/plain": [
       "3813"
      ]
     },
     "execution_count": 30,
     "metadata": {},
     "output_type": "execute_result"
    }
   ],
   "source": [
    "dictEspece_value_sorted = dict(sorted(dictEspece_value.items(), key=lambda x:x[1], reverse=True))\n",
    "max(dictEspece_value_sorted.values())"
   ]
  },
  {
   "cell_type": "code",
   "execution_count": 31,
   "id": "d4227a8b",
   "metadata": {},
   "outputs": [
    {
     "data": {
      "text/plain": [
       "'acerifolia'"
      ]
     },
     "execution_count": 31,
     "metadata": {},
     "output_type": "execute_result"
    }
   ],
   "source": [
    "proportionSpeciesDict = compute_proportion(dictEspece_value_sorted)\n",
    "max_proportion_species = max(proportionSpeciesDict, key=lambda x:proportionSpeciesDict[x][\"proportion\"])\n",
    "max_proportion_species"
   ]
  },
  {
   "cell_type": "code",
   "execution_count": 32,
   "id": "12805de8",
   "metadata": {},
   "outputs": [
    {
     "name": "stdout",
     "output_type": "stream",
     "text": [
      "\u001b[1;34m The higher proportion of a species is -->  \u001b[1;31m 13.11 \u001b[1;34m %\n",
      "\u001b[1;34m For the species :  \u001b[1;31m acerifolia\n"
     ]
    }
   ],
   "source": [
    "print(blue, \"The higher proportion of a species is --> \", red, proportionSpeciesDict[max_proportion_species][\"proportion\"], blue, \"%\")\n",
    "print(blue, \"For the species : \", red, max_proportion_species)"
   ]
  },
  {
   "cell_type": "markdown",
   "id": "d4eef77a",
   "metadata": {},
   "source": [
    "### Check Métro critère"
   ]
  },
  {
   "cell_type": "code",
   "execution_count": 33,
   "id": "f1b7d11b",
   "metadata": {},
   "outputs": [
    {
     "name": "stdout",
     "output_type": "stream",
     "text": [
      "\u001b[1;32m The Metro critere is respected for -->  Acer \u001b[1;32m  <-- with a proportion of -->  16.473 \u001b[1;32m  <--\n",
      "\u001b[1;32m The Metro critere is respected for -->  Platanus \u001b[1;32m  <-- with a proportion of -->  14.639 \u001b[1;32m  <--\n",
      "\u001b[1;32m The Metro critere is respected for -->  Pinus \u001b[1;32m  <-- with a proportion of -->  6.394 \u001b[1;32m  <--\n",
      "\u001b[1;32m The Metro critere is respected for -->  Tilia \u001b[1;32m  <-- with a proportion of -->  5.67 \u001b[1;32m  <--\n",
      "\u001b[1;32m The Metro critere is respected for -->  Fraxinus \u001b[1;32m  <-- with a proportion of -->  4.905 \u001b[1;32m  <--\n",
      "\u001b[1;32m The Metro critere is respected for -->  Carpinus \u001b[1;32m  <-- with a proportion of -->  3.976 \u001b[1;32m  <--\n",
      "\u001b[1;32m The Metro critere is respected for -->  Prunus \u001b[1;32m  <-- with a proportion of -->  3.761 \u001b[1;32m  <--\n",
      "\u001b[1;32m The Metro critere is respected for -->  Betula \u001b[1;32m  <-- with a proportion of -->  3.647 \u001b[1;32m  <--\n",
      "\u001b[1;32m The Metro critere is respected for -->  Populus \u001b[1;32m  <-- with a proportion of -->  2.737 \u001b[1;32m  <--\n",
      "\u001b[1;32m The Metro critere is respected for -->  Liquidambar \u001b[1;32m  <-- with a proportion of -->  2.643 \u001b[1;32m  <--\n",
      "\u001b[1;32m The Metro critere is respected for -->  Quercus \u001b[1;32m  <-- with a proportion of -->  2.636 \u001b[1;32m  <--\n",
      "\u001b[1;32m The Metro critere is respected for -->  Alnus \u001b[1;32m  <-- with a proportion of -->  2.48 \u001b[1;32m  <--\n",
      "\u001b[1;32m The Metro critere is respected for -->  Pyrus \u001b[1;32m  <-- with a proportion of -->  1.906 \u001b[1;32m  <--\n",
      "\u001b[1;32m The Metro critere is respected for -->  Liriodendron \u001b[1;32m  <-- with a proportion of -->  1.655 \u001b[1;32m  <--\n",
      "\u001b[1;32m The Metro critere is respected for -->  Magnolia \u001b[1;32m  <-- with a proportion of -->  1.636 \u001b[1;32m  <--\n",
      "\u001b[1;32m The Metro critere is respected for -->  Aesculus \u001b[1;32m  <-- with a proportion of -->  1.502 \u001b[1;32m  <--\n",
      "\u001b[1;32m The Metro critere is respected for -->  Sophora \u001b[1;32m  <-- with a proportion of -->  1.369 \u001b[1;32m  <--\n",
      "\u001b[1;32m The Metro critere is respected for -->  Cedrus \u001b[1;32m  <-- with a proportion of -->  1.356 \u001b[1;32m  <--\n",
      "\u001b[1;32m The Metro critere is respected for -->  Gleditsia \u001b[1;32m  <-- with a proportion of -->  1.232 \u001b[1;32m  <--\n",
      "\u001b[1;32m The Metro critere is respected for -->  Chamaecyparis \u001b[1;32m  <-- with a proportion of -->  1.186 \u001b[1;32m  <--\n",
      "\u001b[1;32m The Metro critere is respected for -->  Malus \u001b[1;32m  <-- with a proportion of -->  1.105 \u001b[1;32m  <--\n",
      "\u001b[1;32m The Metro critere is respected for -->  Cercis \u001b[1;32m  <-- with a proportion of -->  1.095 \u001b[1;32m  <--\n",
      "\u001b[1;32m The Metro critere is respected for -->  Koelreuteria \u001b[1;32m  <-- with a proportion of -->  0.922 \u001b[1;32m  <--\n",
      "\u001b[1;32m The Metro critere is respected for -->  Zelkova \u001b[1;32m  <-- with a proportion of -->  0.916 \u001b[1;32m  <--\n",
      "\u001b[1;32m The Metro critere is respected for -->  Fagus \u001b[1;32m  <-- with a proportion of -->  0.909 \u001b[1;32m  <--\n",
      "\u001b[1;32m The Metro critere is respected for -->  Picea \u001b[1;32m  <-- with a proportion of -->  0.841 \u001b[1;32m  <--\n",
      "\u001b[1;32m The Metro critere is respected for -->  Robinia \u001b[1;32m  <-- with a proportion of -->  0.828 \u001b[1;32m  <--\n",
      "\u001b[1;32m The Metro critere is respected for -->  Celtis \u001b[1;32m  <-- with a proportion of -->  0.743 \u001b[1;32m  <--\n",
      "\u001b[1;32m The Metro critere is respected for -->  Ulmus \u001b[1;32m  <-- with a proportion of -->  0.707 \u001b[1;32m  <--\n",
      "\u001b[1;32m The Metro critere is respected for -->  Corylus \u001b[1;32m  <-- with a proportion of -->  0.671 \u001b[1;32m  <--\n",
      "\u001b[1;32m The Metro critere is respected for -->  Taxus \u001b[1;32m  <-- with a proportion of -->  0.655 \u001b[1;32m  <--\n",
      "\u001b[1;32m The Metro critere is respected for -->  Cupressus \u001b[1;32m  <-- with a proportion of -->  0.642 \u001b[1;32m  <--\n",
      "\u001b[1;32m The Metro critere is respected for -->  Amélanchier \u001b[1;32m  <-- with a proportion of -->  0.459 \u001b[1;32m  <--\n",
      "\u001b[1;32m The Metro critere is respected for -->  Salix \u001b[1;32m  <-- with a proportion of -->  0.437 \u001b[1;32m  <--\n",
      "\u001b[1;32m The Metro critere is respected for -->  Ginkgo \u001b[1;32m  <-- with a proportion of -->  0.365 \u001b[1;32m  <--\n",
      "\u001b[1;32m The Metro critere is respected for -->  Crataegus \u001b[1;32m  <-- with a proportion of -->  0.345 \u001b[1;32m  <--\n",
      "\u001b[1;32m The Metro critere is respected for -->  Catalpa \u001b[1;32m  <-- with a proportion of -->  0.336 \u001b[1;32m  <--\n",
      "\u001b[1;32m The Metro critere is respected for -->  Morus \u001b[1;32m  <-- with a proportion of -->  0.323 \u001b[1;32m  <--\n",
      "\u001b[1;32m The Metro critere is respected for -->  Paulownia \u001b[1;32m  <-- with a proportion of -->  0.316 \u001b[1;32m  <--\n",
      "\u001b[1;32m The Metro critere is respected for -->  Cupressocyparis \u001b[1;32m  <-- with a proportion of -->  0.313 \u001b[1;32m  <--\n",
      "\u001b[1;32m The Metro critere is respected for -->  Sorbus \u001b[1;32m  <-- with a proportion of -->  0.303 \u001b[1;32m  <--\n",
      "\u001b[1;32m The Metro critere is respected for -->  Ostrya \u001b[1;32m  <-- with a proportion of -->  0.287 \u001b[1;32m  <--\n",
      "\u001b[1;32m The Metro critere is respected for -->  Metasequoia \u001b[1;32m  <-- with a proportion of -->  0.274 \u001b[1;32m  <--\n",
      "\u001b[1;32m The Metro critere is respected for -->  Tetradium \u001b[1;32m  <-- with a proportion of -->  0.261 \u001b[1;32m  <--\n",
      "\u001b[1;32m The Metro critere is respected for -->  Ailanthus \u001b[1;32m  <-- with a proportion of -->  0.257 \u001b[1;32m  <--\n",
      "\u001b[1;32m The Metro critere is respected for -->  Juglans \u001b[1;32m  <-- with a proportion of -->  0.248 \u001b[1;32m  <--\n",
      "\u001b[1;32m The Metro critere is respected for -->  Chionanthus \u001b[1;32m  <-- with a proportion of -->  0.235 \u001b[1;32m  <--\n",
      "\u001b[1;32m The Metro critere is respected for -->  Parrotia \u001b[1;32m  <-- with a proportion of -->  0.215 \u001b[1;32m  <--\n",
      "\u001b[1;32m The Metro critere is respected for -->  Albizia \u001b[1;32m  <-- with a proportion of -->  0.209 \u001b[1;32m  <--\n",
      "\u001b[1;32m The Metro critere is respected for -->  Lagerstroemia \u001b[1;32m  <-- with a proportion of -->  0.192 \u001b[1;32m  <--\n",
      "\u001b[1;32m The Metro critere is respected for -->  Pterocarya \u001b[1;32m  <-- with a proportion of -->  0.192 \u001b[1;32m  <--\n",
      "\u001b[1;32m The Metro critere is respected for -->  Cedrela \u001b[1;32m  <-- with a proportion of -->  0.176 \u001b[1;32m  <--\n",
      "\u001b[1;32m The Metro critere is respected for -->  Thuja \u001b[1;32m  <-- with a proportion of -->  0.156 \u001b[1;32m  <--\n",
      "\u001b[1;32m The Metro critere is respected for -->  Cladastris \u001b[1;32m  <-- with a proportion of -->  0.15 \u001b[1;32m  <--\n",
      "\u001b[1;32m The Metro critere is respected for -->  Syringa \u001b[1;32m  <-- with a proportion of -->  0.14 \u001b[1;32m  <--\n",
      "\u001b[1;32m The Metro critere is respected for -->  Libocedrus \u001b[1;32m  <-- with a proportion of -->  0.137 \u001b[1;32m  <--\n",
      "\u001b[1;32m The Metro critere is respected for -->  Sambucus \u001b[1;32m  <-- with a proportion of -->  0.117 \u001b[1;32m  <--\n",
      "\u001b[1;32m The Metro critere is respected for -->  Ficus \u001b[1;32m  <-- with a proportion of -->  0.104 \u001b[1;32m  <--\n",
      "\u001b[1;32m The Metro critere is respected for -->  Ilex \u001b[1;32m  <-- with a proportion of -->  0.091 \u001b[1;32m  <--\n",
      "\u001b[1;32m The Metro critere is respected for -->  Broussonetia \u001b[1;32m  <-- with a proportion of -->  0.085 \u001b[1;32m  <--\n",
      "\u001b[1;32m The Metro critere is respected for -->  Cornus \u001b[1;32m  <-- with a proportion of -->  0.085 \u001b[1;32m  <--\n",
      "\u001b[1;32m The Metro critere is respected for -->  Abies \u001b[1;32m  <-- with a proportion of -->  0.081 \u001b[1;32m  <--\n",
      "\u001b[1;32m The Metro critere is respected for -->  Diospyros \u001b[1;32m  <-- with a proportion of -->  0.078 \u001b[1;32m  <--\n",
      "\u001b[1;32m The Metro critere is respected for -->  Trachycarpus \u001b[1;32m  <-- with a proportion of -->  0.075 \u001b[1;32m  <--\n",
      "\u001b[1;32m The Metro critere is respected for -->  Ligustrum \u001b[1;32m  <-- with a proportion of -->  0.075 \u001b[1;32m  <--\n",
      "\u001b[1;32m The Metro critere is respected for -->  Cydonia \u001b[1;32m  <-- with a proportion of -->  0.062 \u001b[1;32m  <--\n",
      "\u001b[1;32m The Metro critere is respected for -->  Phellodendron \u001b[1;32m  <-- with a proportion of -->  0.052 \u001b[1;32m  <--\n",
      "\u001b[1;32m The Metro critere is respected for -->  Pteroceltis \u001b[1;32m  <-- with a proportion of -->  0.049 \u001b[1;32m  <--\n",
      "\u001b[1;32m The Metro critere is respected for -->  Eleagnus \u001b[1;32m  <-- with a proportion of -->  0.049 \u001b[1;32m  <--\n",
      "\u001b[1;32m The Metro critere is respected for -->  Cercidiphyllum \u001b[1;32m  <-- with a proportion of -->  0.046 \u001b[1;32m  <--\n",
      "\u001b[1;32m The Metro critere is respected for -->  Buxus \u001b[1;32m  <-- with a proportion of -->  0.039 \u001b[1;32m  <--\n",
      "\u001b[1;32m The Metro critere is respected for -->  Maclura \u001b[1;32m  <-- with a proportion of -->  0.039 \u001b[1;32m  <--\n",
      "\u001b[1;32m The Metro critere is respected for -->  Gymnocladus \u001b[1;32m  <-- with a proportion of -->  0.036 \u001b[1;32m  <--\n",
      "\u001b[1;32m The Metro critere is respected for -->  Taxodium \u001b[1;32m  <-- with a proportion of -->  0.036 \u001b[1;32m  <--\n",
      "\u001b[1;32m The Metro critere is respected for -->  Halesia \u001b[1;32m  <-- with a proportion of -->  0.036 \u001b[1;32m  <--\n",
      "\u001b[1;32m The Metro critere is respected for -->  Sequoiadendron \u001b[1;32m  <-- with a proportion of -->  0.033 \u001b[1;32m  <--\n",
      "\u001b[1;32m The Metro critere is respected for -->  Pistacia \u001b[1;32m  <-- with a proportion of -->  0.033 \u001b[1;32m  <--\n",
      "\u001b[1;32m The Metro critere is respected for -->  Photinia \u001b[1;32m  <-- with a proportion of -->  0.029 \u001b[1;32m  <--\n",
      "\u001b[1;32m The Metro critere is respected for -->  Laburnum \u001b[1;32m  <-- with a proportion of -->  0.029 \u001b[1;32m  <--\n",
      "\u001b[1;32m The Metro critere is respected for -->  Mespilus \u001b[1;32m  <-- with a proportion of -->  0.026 \u001b[1;32m  <--\n",
      "\u001b[1;32m The Metro critere is respected for -->  Rhus \u001b[1;32m  <-- with a proportion of -->  0.026 \u001b[1;32m  <--\n",
      "\u001b[1;32m The Metro critere is respected for -->  Davidia \u001b[1;32m  <-- with a proportion of -->  0.026 \u001b[1;32m  <--\n",
      "\u001b[1;32m The Metro critere is respected for -->  Olea \u001b[1;32m  <-- with a proportion of -->  0.026 \u001b[1;32m  <--\n",
      "\u001b[1;32m The Metro critere is respected for -->  Cotinus \u001b[1;32m  <-- with a proportion of -->  0.026 \u001b[1;32m  <--\n",
      "\u001b[1;32m The Metro critere is respected for -->  Chitalpa \u001b[1;32m  <-- with a proportion of -->  0.023 \u001b[1;32m  <--\n",
      "\u001b[1;32m The Metro critere is respected for -->  Sequoia \u001b[1;32m  <-- with a proportion of -->  0.02 \u001b[1;32m  <--\n",
      "\u001b[1;32m The Metro critere is respected for -->  Lonicera \u001b[1;32m  <-- with a proportion of -->  0.02 \u001b[1;32m  <--\n",
      "\u001b[1;32m The Metro critere is respected for -->  Carya \u001b[1;32m  <-- with a proportion of -->  0.02 \u001b[1;32m  <--\n",
      "\u001b[1;32m The Metro critere is respected for -->  Calocedrus \u001b[1;32m  <-- with a proportion of -->  0.02 \u001b[1;32m  <--\n",
      "\u001b[1;32m The Metro critere is respected for -->  Pterostyrax \u001b[1;32m  <-- with a proportion of -->  0.02 \u001b[1;32m  <--\n",
      "\u001b[1;32m The Metro critere is respected for -->  Fontanesia \u001b[1;32m  <-- with a proportion of -->  0.02 \u001b[1;32m  <--\n",
      "\u001b[1;32m The Metro critere is respected for -->  Clerodendron \u001b[1;32m  <-- with a proportion of -->  0.016 \u001b[1;32m  <--\n",
      "\u001b[1;32m The Metro critere is respected for -->  Larix \u001b[1;32m  <-- with a proportion of -->  0.016 \u001b[1;32m  <--\n",
      "\u001b[1;32m The Metro critere is respected for -->  Idesia \u001b[1;32m  <-- with a proportion of -->  0.016 \u001b[1;32m  <--\n",
      "\u001b[1;32m The Metro critere is respected for -->  Punica \u001b[1;32m  <-- with a proportion of -->  0.013 \u001b[1;32m  <--\n",
      "\u001b[1;32m The Metro critere is respected for -->  Juniperus \u001b[1;32m  <-- with a proportion of -->  0.013 \u001b[1;32m  <--\n",
      "\u001b[1;32m The Metro critere is respected for -->  Ptelea \u001b[1;32m  <-- with a proportion of -->  0.013 \u001b[1;32m  <--\n",
      "\u001b[1;32m The Metro critere is respected for -->  Chimonanthus \u001b[1;32m  <-- with a proportion of -->  0.01 \u001b[1;32m  <--\n",
      "\u001b[1;32m The Metro critere is respected for -->  Cephalotaxus \u001b[1;32m  <-- with a proportion of -->  0.01 \u001b[1;32m  <--\n",
      "\u001b[1;32m The Metro critere is respected for -->  Eriobotrya  \u001b[1;32m  <-- with a proportion of -->  0.01 \u001b[1;32m  <--\n",
      "\u001b[1;32m The Metro critere is respected for -->  Hibiscus \u001b[1;32m  <-- with a proportion of -->  0.01 \u001b[1;32m  <--\n",
      "\u001b[1;32m The Metro critere is respected for -->  Styrax \u001b[1;32m  <-- with a proportion of -->  0.01 \u001b[1;32m  <--\n",
      "\u001b[1;32m The Metro critere is respected for -->  Phillyrea \u001b[1;32m  <-- with a proportion of -->  0.007 \u001b[1;32m  <--\n",
      "\u001b[1;32m The Metro critere is respected for -->  Hovenia \u001b[1;32m  <-- with a proportion of -->  0.007 \u001b[1;32m  <--\n",
      "\u001b[1;32m The Metro critere is respected for -->  Cryptomeria \u001b[1;32m  <-- with a proportion of -->  0.007 \u001b[1;32m  <--\n",
      "\u001b[1;32m The Metro critere is respected for -->  Araucaria \u001b[1;32m  <-- with a proportion of -->  0.007 \u001b[1;32m  <--\n",
      "\u001b[1;32m The Metro critere is respected for -->  Euodia \u001b[1;32m  <-- with a proportion of -->  0.007 \u001b[1;32m  <--\n",
      "\u001b[1;32m The Metro critere is respected for -->  Acacia \u001b[1;32m  <-- with a proportion of -->  0.003 \u001b[1;32m  <--\n",
      "\u001b[1;32m The Metro critere is respected for -->  Pseudotsuga \u001b[1;32m  <-- with a proportion of -->  0.003 \u001b[1;32m  <--\n",
      "\u001b[1;32m The Metro critere is respected for -->  Poncinos \u001b[1;32m  <-- with a proportion of -->  0.003 \u001b[1;32m  <--\n",
      "\u001b[1;32m The Metro critere is respected for -->  Sciadopitys \u001b[1;32m  <-- with a proportion of -->  0.003 \u001b[1;32m  <--\n",
      "\u001b[1;32m The Metro critere is respected for -->  Sorbopyrus \u001b[1;32m  <-- with a proportion of -->  0.003 \u001b[1;32m  <--\n",
      "\u001b[1;32m The Metro critere is respected for -->  Eucalyptus \u001b[1;32m  <-- with a proportion of -->  0.003 \u001b[1;32m  <--\n",
      "\u001b[1;32m The Metro critere is respected for -->  Castanea \u001b[1;32m  <-- with a proportion of -->  0.003 \u001b[1;32m  <--\n",
      "\u001b[1;32m The Metro critere is respected for -->  Sterculia \u001b[1;32m  <-- with a proportion of -->  0.003 \u001b[1;32m  <--\n",
      "\u001b[1;32m The Metro critere is respected for -->  Laurus \u001b[1;32m  <-- with a proportion of -->  0.003 \u001b[1;32m  <--\n",
      "\u001b[1;32m The Metro critere is respected for -->  Staphylea \u001b[1;32m  <-- with a proportion of -->  0.003 \u001b[1;32m  <--\n",
      "\u001b[1;32m The Metro critere is respected for -->  Rhamnus \u001b[1;32m  <-- with a proportion of -->  0.003 \u001b[1;32m  <--\n",
      "\u001b[1;32m The Metro critere is respected for -->  Nyssa \u001b[1;32m  <-- with a proportion of -->  0.003 \u001b[1;32m  <--\n"
     ]
    }
   ],
   "source": [
    "# The dict checked should qlready contain the \"proportion\" key\n",
    "# Otherwise call compute_proportion function\n",
    "\n",
    "def check_metro_genre(genreDict:dict) -> bool:\n",
    "    \n",
    "    critereMax = 20 \n",
    "    is_validate = True\n",
    "    \n",
    "    for key in genreDict.keys():\n",
    "        if genreDict[key][\"proportion\"]:\n",
    "            pass\n",
    "        else:\n",
    "            genreDict = compute_proportion(genreDict)\n",
    "    \n",
    "    for key in genreDict.keys():\n",
    "        if genreDict[key][\"proportion\"] < critereMax:\n",
    "            print(green, \"The Metro critere is respected for --> \", key, green, \" <-- with a proportion of --> \",genreDict[key][\"proportion\"], green, \" <--\" )\n",
    "        else:\n",
    "            print(red, \"The Metro critere is not respected for --> \", black, key, red, \" <-- with a proportion of --> \", black,genreDict[key][\"proportion\"], red, \" <--\" )\n",
    "            is_validate = False\n",
    "    return is_validate\n",
    "isMetroGenreValidate = check_metro_genre(proportionGenreBotaDict)"
   ]
  },
  {
   "cell_type": "code",
   "execution_count": 34,
   "id": "63ef4f0d",
   "metadata": {},
   "outputs": [
    {
     "name": "stdout",
     "output_type": "stream",
     "text": [
      "\u001b[1;31m The Metro critere is not respected for -->  acerifolia \u001b[1;31m  <-- with a proportion of -->  13.11 \u001b[1;31m  <--\n",
      "\u001b[1;32m The Metro critere is respected for -->  nigra \u001b[1;32m  <-- with a proportion of -->  6.374 \u001b[1;32m  <--\n",
      "\u001b[1;32m The Metro critere is respected for -->  pseudoplatanus \u001b[1;32m  <-- with a proportion of -->  4.48 \u001b[1;32m  <--\n",
      "\u001b[1;32m The Metro critere is respected for -->  betulus \u001b[1;32m  <-- with a proportion of -->  4.119 \u001b[1;32m  <--\n",
      "\u001b[1;32m The Metro critere is respected for -->  platanoides \u001b[1;32m  <-- with a proportion of -->  3.5 \u001b[1;32m  <--\n",
      "\u001b[1;32m The Metro critere is respected for -->  tomentosa \u001b[1;32m  <-- with a proportion of -->  3.466 \u001b[1;32m  <--\n",
      "\u001b[1;32m The Metro critere is respected for -->  campestre \u001b[1;32m  <-- with a proportion of -->  3.022 \u001b[1;32m  <--\n",
      "\u001b[1;32m The Metro critere is respected for -->  styraciflua \u001b[1;32m  <-- with a proportion of -->  2.74 \u001b[1;32m  <--\n",
      "\u001b[1;32m The Metro critere is respected for -->  excelsior \u001b[1;32m  <-- with a proportion of -->  2.675 \u001b[1;32m  <--\n",
      "\u001b[1;32m The Metro critere is respected for -->  cordata \u001b[1;32m  <-- with a proportion of -->  2.596 \u001b[1;32m  <--\n",
      "\u001b[1;32m The Metro critere is respected for -->  sylvestris \u001b[1;32m  <-- with a proportion of -->  1.846 \u001b[1;32m  <--\n",
      "\u001b[1;32m The Metro critere is respected for -->  tulipifera \u001b[1;32m  <-- with a proportion of -->  1.747 \u001b[1;32m  <--\n",
      "\u001b[1;32m The Metro critere is respected for -->  saccharinum \u001b[1;32m  <-- with a proportion of -->  1.723 \u001b[1;32m  <--\n",
      "\u001b[1;32m The Metro critere is respected for -->  verrucosa \u001b[1;32m  <-- with a proportion of -->  1.685 \u001b[1;32m  <--\n",
      "\u001b[1;32m The Metro critere is respected for -->  calleryana \u001b[1;32m  <-- with a proportion of -->  1.681 \u001b[1;32m  <--\n",
      "\u001b[1;32m The Metro critere is respected for -->  serrulata \u001b[1;32m  <-- with a proportion of -->  1.527 \u001b[1;32m  <--\n",
      "\u001b[1;32m The Metro critere is respected for -->  japonica \u001b[1;32m  <-- with a proportion of -->  1.468 \u001b[1;32m  <--\n",
      "\u001b[1;32m The Metro critere is respected for -->  hispanica \u001b[1;32m  <-- with a proportion of -->  1.417 \u001b[1;32m  <--\n",
      "\u001b[1;32m The Metro critere is respected for -->  hippocastanum \u001b[1;32m  <-- with a proportion of -->  1.403 \u001b[1;32m  <--\n",
      "\u001b[1;32m The Metro critere is respected for -->  triacanthos \u001b[1;32m  <-- with a proportion of -->  1.293 \u001b[1;32m  <--\n",
      "\u001b[1;32m The Metro critere is respected for -->  lawsoniana \u001b[1;32m  <-- with a proportion of -->  1.231 \u001b[1;32m  <--\n",
      "\u001b[1;32m The Metro critere is respected for -->  utilis \u001b[1;32m  <-- with a proportion of -->  1.203 \u001b[1;32m  <--\n",
      "\u001b[1;32m The Metro critere is respected for -->  grandiflora \u001b[1;32m  <-- with a proportion of -->  1.141 \u001b[1;32m  <--\n",
      "\u001b[1;32m The Metro critere is respected for -->  atlantica \u001b[1;32m  <-- with a proportion of -->  1.1 \u001b[1;32m  <--\n",
      "\u001b[1;32m The Metro critere is respected for -->  siliquastrum \u001b[1;32m  <-- with a proportion of -->  1.083 \u001b[1;32m  <--\n",
      "\u001b[1;32m The Metro critere is respected for -->  paniculata \u001b[1;32m  <-- with a proportion of -->  0.973 \u001b[1;32m  <--\n",
      "\u001b[1;32m The Metro critere is respected for -->  serrata \u001b[1;32m  <-- with a proportion of -->  0.959 \u001b[1;32m  <--\n",
      "\u001b[1;32m The Metro critere is respected for -->  sylvatica \u001b[1;32m  <-- with a proportion of -->  0.956 \u001b[1;32m  <--\n",
      "\u001b[1;32m The Metro critere is respected for -->  platyphyllos \u001b[1;32m  <-- with a proportion of -->  0.887 \u001b[1;32m  <--\n",
      "\u001b[1;32m The Metro critere is respected for -->  alba \u001b[1;32m  <-- with a proportion of -->  0.88 \u001b[1;32m  <--\n",
      "\u001b[1;32m The Metro critere is respected for -->  canadensis \u001b[1;32m  <-- with a proportion of -->  0.863 \u001b[1;32m  <--\n",
      "\u001b[1;32m The Metro critere is respected for -->  pseudoacacia \u001b[1;32m  <-- with a proportion of -->  0.863 \u001b[1;32m  <--\n",
      "\u001b[1;32m The Metro critere is respected for -->  cerris \u001b[1;32m  <-- with a proportion of -->  0.829 \u001b[1;32m  <--\n",
      "\u001b[1;32m The Metro critere is respected for -->  angustifolia \u001b[1;32m  <-- with a proportion of -->  0.811 \u001b[1;32m  <--\n",
      "\u001b[1;32m The Metro critere is respected for -->  abies \u001b[1;32m  <-- with a proportion of -->  0.767 \u001b[1;32m  <--\n",
      "\u001b[1;32m The Metro critere is respected for -->  baccata \u001b[1;32m  <-- with a proportion of -->  0.708 \u001b[1;32m  <--\n",
      "\u001b[1;32m The Metro critere is respected for -->  americana \u001b[1;32m  <-- with a proportion of -->  0.684 \u001b[1;32m  <--\n",
      "\u001b[1;32m The Metro critere is respected for -->  cappadocicum \u001b[1;32m  <-- with a proportion of -->  0.677 \u001b[1;32m  <--\n",
      "\u001b[1;32m The Metro critere is respected for -->  glutinosa \u001b[1;32m  <-- with a proportion of -->  0.605 \u001b[1;32m  <--\n",
      "\u001b[1;32m The Metro critere is respected for -->  avium \u001b[1;32m  <-- with a proportion of -->  0.581 \u001b[1;32m  <--\n",
      "\u001b[1;32m The Metro critere is respected for -->  colurna \u001b[1;32m  <-- with a proportion of -->  0.55 \u001b[1;32m  <--\n",
      "\u001b[1;32m The Metro critere is respected for -->  sempervirens \u001b[1;32m  <-- with a proportion of -->  0.547 \u001b[1;32m  <--\n",
      "\u001b[1;32m The Metro critere is respected for -->  negundo \u001b[1;32m  <-- with a proportion of -->  0.536 \u001b[1;32m  <--\n",
      "\u001b[1;32m The Metro critere is respected for -->  pendula \u001b[1;32m  <-- with a proportion of -->  0.536 \u001b[1;32m  <--\n",
      "\u001b[1;32m The Metro critere is respected for -->  australis \u001b[1;32m  <-- with a proportion of -->  0.509 \u001b[1;32m  <--\n",
      "\u001b[1;32m The Metro critere is respected for -->  orientalis \u001b[1;32m  <-- with a proportion of -->  0.492 \u001b[1;32m  <--\n",
      "\u001b[1;32m The Metro critere is respected for -->  domestica \u001b[1;32m  <-- with a proportion of -->  0.492 \u001b[1;32m  <--\n",
      "\u001b[1;32m The Metro critere is respected for -->  minor \u001b[1;32m  <-- with a proportion of -->  0.447 \u001b[1;32m  <--\n",
      "\u001b[1;32m The Metro critere is respected for -->  petraea \u001b[1;32m  <-- with a proportion of -->  0.444 \u001b[1;32m  <--\n",
      "\u001b[1;32m The Metro critere is respected for -->  ornus \u001b[1;32m  <-- with a proportion of -->  0.44 \u001b[1;32m  <--\n",
      "\u001b[1;32m The Metro critere is respected for -->  floribunda \u001b[1;32m  <-- with a proportion of -->  0.426 \u001b[1;32m  <--\n",
      "\u001b[1;32m The Metro critere is respected for -->  kobus \u001b[1;32m  <-- with a proportion of -->  0.419 \u001b[1;32m  <--\n",
      "\u001b[1;32m The Metro critere is respected for -->  biloba \u001b[1;32m  <-- with a proportion of -->  0.385 \u001b[1;32m  <--\n",
      "\u001b[1;32m The Metro critere is respected for -->  robur \u001b[1;32m  <-- with a proportion of -->  0.364 \u001b[1;32m  <--\n",
      "\u001b[1;32m The Metro critere is respected for -->  bignonoides \u001b[1;32m  <-- with a proportion of -->  0.358 \u001b[1;32m  <--\n",
      "\u001b[1;32m The Metro critere is respected for -->  cerasifera \u001b[1;32m  <-- with a proportion of -->  0.344 \u001b[1;32m  <--\n",
      "\u001b[1;32m The Metro critere is respected for -->  padus \u001b[1;32m  <-- with a proportion of -->  0.344 \u001b[1;32m  <--\n",
      "\u001b[1;32m The Metro critere is respected for -->  sinensis \u001b[1;32m  <-- with a proportion of -->  0.334 \u001b[1;32m  <--\n",
      "\u001b[1;32m The Metro critere is respected for -->  leylandii \u001b[1;32m  <-- with a proportion of -->  0.33 \u001b[1;32m  <--\n",
      "\u001b[1;32m The Metro critere is respected for -->  spaethii \u001b[1;32m  <-- with a proportion of -->  0.32 \u001b[1;32m  <--\n",
      "\u001b[1;32m The Metro critere is respected for -->  carpinifolia \u001b[1;32m  <-- with a proportion of -->  0.316 \u001b[1;32m  <--\n",
      "\u001b[1;32m The Metro critere is respected for -->  glyptostroboides \u001b[1;32m  <-- with a proportion of -->  0.289 \u001b[1;32m  <--\n",
      "\u001b[1;32m The Metro critere is respected for -->  persica \u001b[1;32m  <-- with a proportion of -->  0.289 \u001b[1;32m  <--\n",
      "\u001b[1;32m The Metro critere is respected for -->  daniellii \u001b[1;32m  <-- with a proportion of -->  0.282 \u001b[1;32m  <--\n",
      "\u001b[1;32m The Metro critere is respected for -->  platanor \u001b[1;32m  <-- with a proportion of -->  0.282 \u001b[1;32m  <--\n",
      "\u001b[1;32m The Metro critere is respected for -->  altissima \u001b[1;32m  <-- with a proportion of -->  0.272 \u001b[1;32m  <--\n",
      "\u001b[1;32m The Metro critere is respected for -->  monspessulanum \u001b[1;32m  <-- with a proportion of -->  0.272 \u001b[1;32m  <--\n",
      "\u001b[1;32m The Metro critere is respected for -->  deodara \u001b[1;32m  <-- with a proportion of -->  0.265 \u001b[1;32m  <--\n",
      "\u001b[1;32m The Metro critere is respected for -->  oxycarpa \u001b[1;32m  <-- with a proportion of -->  0.248 \u001b[1;32m  <--\n",
      "\u001b[1;32m The Metro critere is respected for -->  freemanii \u001b[1;32m  <-- with a proportion of -->  0.244 \u001b[1;32m  <--\n",
      "\u001b[1;32m The Metro critere is respected for -->  castaneifolia \u001b[1;32m  <-- with a proportion of -->  0.237 \u001b[1;32m  <--\n",
      "\u001b[1;32m The Metro critere is respected for -->  velutina \u001b[1;32m  <-- with a proportion of -->  0.227 \u001b[1;32m  <--\n",
      "\u001b[1;32m The Metro critere is respected for -->  julibrissin \u001b[1;32m  <-- with a proportion of -->  0.22 \u001b[1;32m  <--\n",
      "\u001b[1;32m The Metro critere is respected for -->  arizonica \u001b[1;32m  <-- with a proportion of -->  0.186 \u001b[1;32m  <--\n",
      "\u001b[1;32m The Metro critere is respected for -->  indica \u001b[1;32m  <-- with a proportion of -->  0.186 \u001b[1;32m  <--\n",
      "\u001b[1;32m The Metro critere is respected for -->  communis \u001b[1;32m  <-- with a proportion of -->  0.186 \u001b[1;32m  <--\n",
      "\u001b[1;32m The Metro critere is respected for -->  fraxinifolia \u001b[1;32m  <-- with a proportion of -->  0.182 \u001b[1;32m  <--\n",
      "\u001b[1;32m The Metro critere is respected for -->  retusus \u001b[1;32m  <-- with a proportion of -->  0.182 \u001b[1;32m  <--\n",
      "\u001b[1;32m The Metro critere is respected for -->  ginnala \u001b[1;32m  <-- with a proportion of -->  0.175 \u001b[1;32m  <--\n",
      "\u001b[1;32m The Metro critere is respected for -->  papyrifera \u001b[1;32m  <-- with a proportion of -->  0.165 \u001b[1;32m  <--\n",
      "\u001b[1;32m The Metro critere is respected for -->  decurrens \u001b[1;32m  <-- with a proportion of -->  0.165 \u001b[1;32m  <--\n",
      "\u001b[1;32m The Metro critere is respected for -->  aria \u001b[1;32m  <-- with a proportion of -->  0.158 \u001b[1;32m  <--\n",
      "\u001b[1;32m The Metro critere is respected for -->  fortunei \u001b[1;32m  <-- with a proportion of -->  0.155 \u001b[1;32m  <--\n",
      "\u001b[1;32m The Metro critere is respected for -->  carnea \u001b[1;32m  <-- with a proportion of -->  0.151 \u001b[1;32m  <--\n",
      "\u001b[1;32m The Metro critere is respected for -->  lutea \u001b[1;32m  <-- with a proportion of -->  0.151 \u001b[1;32m  <--\n",
      "\u001b[1;32m The Metro critere is respected for -->  regia \u001b[1;32m  <-- with a proportion of -->  0.134 \u001b[1;32m  <--\n",
      "\u001b[1;32m The Metro critere is respected for -->  soulangeana \u001b[1;32m  <-- with a proportion of -->  0.131 \u001b[1;32m  <--\n",
      "\u001b[1;32m The Metro critere is respected for -->  oxyacantha \u001b[1;32m  <-- with a proportion of -->  0.131 \u001b[1;32m  <--\n",
      "\u001b[1;32m The Metro critere is respected for -->  rubrum \u001b[1;32m  <-- with a proportion of -->  0.124 \u001b[1;32m  <--\n",
      "\u001b[1;32m The Metro critere is respected for -->  europaea \u001b[1;32m  <-- with a proportion of -->  0.12 \u001b[1;32m  <--\n",
      "\u001b[1;32m The Metro critere is respected for -->  resista \u001b[1;32m  <-- with a proportion of -->  0.117 \u001b[1;32m  <--\n",
      "\u001b[1;32m The Metro critere is respected for -->  vulgaris \u001b[1;32m  <-- with a proportion of -->  0.117 \u001b[1;32m  <--\n",
      "\u001b[1;32m The Metro critere is respected for -->  cerasus \u001b[1;32m  <-- with a proportion of -->  0.113 \u001b[1;32m  <--\n",
      "\u001b[1;32m The Metro critere is respected for -->  mongolica \u001b[1;32m  <-- with a proportion of -->  0.113 \u001b[1;32m  <--\n",
      "\u001b[1;32m The Metro critere is respected for -->  henryana \u001b[1;32m  <-- with a proportion of -->  0.113 \u001b[1;32m  <--\n",
      "\u001b[1;32m The Metro critere is respected for -->  buergerianum \u001b[1;32m  <-- with a proportion of -->  0.11 \u001b[1;32m  <--\n",
      "\u001b[1;32m The Metro critere is respected for -->  carica \u001b[1;32m  <-- with a proportion of -->  0.107 \u001b[1;32m  <--\n",
      "\u001b[1;32m The Metro critere is respected for -->  perpetu \u001b[1;32m  <-- with a proportion of -->  0.107 \u001b[1;32m  <--\n",
      "\u001b[1;32m The Metro critere is respected for -->  subhirtella \u001b[1;32m  <-- with a proportion of -->  0.107 \u001b[1;32m  <--\n",
      "\u001b[1;32m The Metro critere is respected for -->  spinosa \u001b[1;32m  <-- with a proportion of -->  0.107 \u001b[1;32m  <--\n",
      "\u001b[1;32m The Metro critere is respected for -->  tschonoskii \u001b[1;32m  <-- with a proportion of -->  0.103 \u001b[1;32m  <--\n",
      "\u001b[1;32m The Metro critere is respected for -->  frainetto \u001b[1;32m  <-- with a proportion of -->  0.1 \u001b[1;32m  <--\n",
      "\u001b[1;32m The Metro critere is respected for -->  rubra \u001b[1;32m  <-- with a proportion of -->  0.096 \u001b[1;32m  <--\n",
      "\u001b[1;32m The Metro critere is respected for -->  aquifolium \u001b[1;32m  <-- with a proportion of -->  0.093 \u001b[1;32m  <--\n",
      "\u001b[1;32m The Metro critere is respected for -->  pennsylvanica \u001b[1;32m  <-- with a proportion of -->  0.089 \u001b[1;32m  <--\n",
      "\u001b[1;32m The Metro critere is respected for -->  avellana \u001b[1;32m  <-- with a proportion of -->  0.089 \u001b[1;32m  <--\n",
      "\u001b[1;32m The Metro critere is respected for -->  bombycis \u001b[1;32m  <-- with a proportion of -->  0.083 \u001b[1;32m  <--\n",
      "\u001b[1;32m The Metro critere is respected for -->  ilex \u001b[1;32m  <-- with a proportion of -->  0.079 \u001b[1;32m  <--\n",
      "\u001b[1;32m The Metro critere is respected for -->  monogyna \u001b[1;32m  <-- with a proportion of -->  0.076 \u001b[1;32m  <--\n",
      "\u001b[1;32m The Metro critere is respected for -->  plicata \u001b[1;32m  <-- with a proportion of -->  0.072 \u001b[1;32m  <--\n",
      "\u001b[1;32m The Metro critere is respected for -->  palustris \u001b[1;32m  <-- with a proportion of -->  0.072 \u001b[1;32m  <--\n",
      "\u001b[1;32m The Metro critere is respected for -->  tremula \u001b[1;32m  <-- with a proportion of -->  0.069 \u001b[1;32m  <--\n",
      "\u001b[1;32m The Metro critere is respected for -->  occidentalis \u001b[1;32m  <-- with a proportion of -->  0.069 \u001b[1;32m  <--\n",
      "\u001b[1;32m The Metro critere is respected for -->  nordmanniana \u001b[1;32m  <-- with a proportion of -->  0.062 \u001b[1;32m  <--\n",
      "\u001b[1;32m The Metro critere is respected for -->  mandshurica \u001b[1;32m  <-- with a proportion of -->  0.062 \u001b[1;32m  <--\n",
      "\u001b[1;32m The Metro critere is respected for -->  wallichiana \u001b[1;32m  <-- with a proportion of -->  0.058 \u001b[1;32m  <--\n",
      "\u001b[1;32m The Metro critere is respected for -->  libani \u001b[1;32m  <-- with a proportion of -->  0.058 \u001b[1;32m  <--\n",
      "\u001b[1;32m The Metro critere is respected for -->  campestris \u001b[1;32m  <-- with a proportion of -->  0.058 \u001b[1;32m  <--\n",
      "\u001b[1;32m The Metro critere is respected for -->  viminalis \u001b[1;32m  <-- with a proportion of -->  0.058 \u001b[1;32m  <--\n",
      "\u001b[1;32m The Metro critere is respected for -->  ibota \u001b[1;32m  <-- with a proportion of -->  0.058 \u001b[1;32m  <--\n",
      "\u001b[1;32m The Metro critere is respected for -->  suber \u001b[1;32m  <-- with a proportion of -->  0.058 \u001b[1;32m  <--\n",
      "\u001b[1;32m The Metro critere is respected for -->  oblonga \u001b[1;32m  <-- with a proportion of -->  0.055 \u001b[1;32m  <--\n",
      "\u001b[1;32m The Metro critere is respected for -->  imbricaria \u001b[1;32m  <-- with a proportion of -->  0.055 \u001b[1;32m  <--\n",
      "\u001b[1;32m The Metro critere is respected for -->  pensylvanicum \u001b[1;32m  <-- with a proportion of -->  0.055 \u001b[1;32m  <--\n",
      "\u001b[1;32m The Metro critere is respected for -->  japonicum \u001b[1;32m  <-- with a proportion of -->  0.055 \u001b[1;32m  <--\n",
      "\u001b[1;32m The Metro critere is respected for -->  lamarckii \u001b[1;32m  <-- with a proportion of -->  0.055 \u001b[1;32m  <--\n",
      "\u001b[1;32m The Metro critere is respected for -->  chinensis \u001b[1;32m  <-- with a proportion of -->  0.052 \u001b[1;32m  <--\n",
      "\u001b[1;32m The Metro critere is respected for -->  tatarinowii \u001b[1;32m  <-- with a proportion of -->  0.052 \u001b[1;32m  <--\n",
      "\u001b[1;32m The Metro critere is respected for -->  laevigata \u001b[1;32m  <-- with a proportion of -->  0.052 \u001b[1;32m  <--\n",
      "\u001b[1;32m The Metro critere is respected for -->  variabilis \u001b[1;32m  <-- with a proportion of -->  0.048 \u001b[1;32m  <--\n",
      "\u001b[1;32m The Metro critere is respected for -->  amurense \u001b[1;32m  <-- with a proportion of -->  0.048 \u001b[1;32m  <--\n",
      "\u001b[1;32m The Metro critere is respected for -->  glabra \u001b[1;32m  <-- with a proportion of -->  0.045 \u001b[1;32m  <--\n",
      "\u001b[1;32m The Metro critere is respected for -->  pungens \u001b[1;32m  <-- with a proportion of -->  0.045 \u001b[1;32m  <--\n",
      "\u001b[1;32m The Metro critere is respected for -->  sieboldii \u001b[1;32m  <-- with a proportion of -->  0.045 \u001b[1;32m  <--\n",
      "\u001b[1;32m The Metro critere is respected for -->  incana \u001b[1;32m  <-- with a proportion of -->  0.045 \u001b[1;32m  <--\n",
      "\u001b[1;32m The Metro critere is respected for -->  yedoensis \u001b[1;32m  <-- with a proportion of -->  0.041 \u001b[1;32m  <--\n",
      "\u001b[1;32m The Metro critere is respected for -->  davidii \u001b[1;32m  <-- with a proportion of -->  0.041 \u001b[1;32m  <--\n",
      "\u001b[1;32m The Metro critere is respected for -->  pomifera \u001b[1;32m  <-- with a proportion of -->  0.041 \u001b[1;32m  <--\n",
      "\u001b[1;32m The Metro critere is respected for -->  dulcis \u001b[1;32m  <-- with a proportion of -->  0.041 \u001b[1;32m  <--\n",
      "\u001b[1;32m The Metro critere is respected for -->  salicifolia \u001b[1;32m  <-- with a proportion of -->  0.038 \u001b[1;32m  <--\n",
      "\u001b[1;32m The Metro critere is respected for -->  latifolia \u001b[1;32m  <-- with a proportion of -->  0.038 \u001b[1;32m  <--\n",
      "\u001b[1;32m The Metro critere is respected for -->  dioicus \u001b[1;32m  <-- with a proportion of -->  0.038 \u001b[1;32m  <--\n",
      "\u001b[1;32m The Metro critere is respected for -->  distychum \u001b[1;32m  <-- with a proportion of -->  0.038 \u001b[1;32m  <--\n",
      "\u001b[1;32m The Metro critere is respected for -->  ovata \u001b[1;32m  <-- with a proportion of -->  0.038 \u001b[1;32m  <--\n",
      "\u001b[1;32m The Metro critere is respected for -->  nivalis \u001b[1;32m  <-- with a proportion of -->  0.038 \u001b[1;32m  <--\n",
      "\u001b[1;32m The Metro critere is respected for -->  mas \u001b[1;32m  <-- with a proportion of -->  0.038 \u001b[1;32m  <--\n",
      "\u001b[1;32m The Metro critere is respected for -->  laurocerasus \u001b[1;32m  <-- with a proportion of -->  0.034 \u001b[1;32m  <--\n",
      "\u001b[1;32m The Metro critere is respected for -->  carolina \u001b[1;32m  <-- with a proportion of -->  0.034 \u001b[1;32m  <--\n",
      "\u001b[1;32m The Metro critere is respected for -->  kaki \u001b[1;32m  <-- with a proportion of -->  0.034 \u001b[1;32m  <--\n",
      "\u001b[1;32m The Metro critere is respected for -->  accolade \u001b[1;32m  <-- with a proportion of -->  0.034 \u001b[1;32m  <--\n",
      "\u001b[1;32m The Metro critere is respected for -->  amygdaliformis \u001b[1;32m  <-- with a proportion of -->  0.034 \u001b[1;32m  <--\n",
      "\u001b[1;32m The Metro critere is respected for -->  villosa \u001b[1;32m  <-- with a proportion of -->  0.031 \u001b[1;32m  <--\n",
      "\u001b[1;32m The Metro critere is respected for -->  giganteum \u001b[1;32m  <-- with a proportion of -->  0.031 \u001b[1;32m  <--\n",
      "\u001b[1;32m The Metro critere is respected for -->  babylonica \u001b[1;32m  <-- with a proportion of -->  0.031 \u001b[1;32m  <--\n",
      "\u001b[1;32m The Metro critere is respected for -->  julianae \u001b[1;32m  <-- with a proportion of -->  0.031 \u001b[1;32m  <--\n",
      "\u001b[1;32m The Metro critere is respected for -->  anagyroides \u001b[1;32m  <-- with a proportion of -->  0.031 \u001b[1;32m  <--\n",
      "\u001b[1;32m The Metro critere is respected for -->  phellos \u001b[1;32m  <-- with a proportion of -->  0.031 \u001b[1;32m  <--\n",
      "\u001b[1;32m The Metro critere is respected for -->  lotus \u001b[1;32m  <-- with a proportion of -->  0.028 \u001b[1;32m  <--\n",
      "\u001b[1;32m The Metro critere is respected for -->  typhina \u001b[1;32m  <-- with a proportion of -->  0.028 \u001b[1;32m  <--\n",
      "\u001b[1;32m The Metro critere is respected for -->  involucrata \u001b[1;32m  <-- with a proportion of -->  0.028 \u001b[1;32m  <--\n",
      "\u001b[1;32m The Metro critere is respected for -->  coggygria \u001b[1;32m  <-- with a proportion of -->  0.028 \u001b[1;32m  <--\n",
      "\u001b[1;32m The Metro critere is respected for -->  mariesii \u001b[1;32m  <-- with a proportion of -->  0.028 \u001b[1;32m  <--\n",
      "\u001b[1;32m The Metro critere is respected for -->  reticulata \u001b[1;32m  <-- with a proportion of -->  0.028 \u001b[1;32m  <--\n",
      "\u001b[1;32m The Metro critere is respected for -->  kiusiana \u001b[1;32m  <-- with a proportion of -->  0.028 \u001b[1;32m  <--\n",
      "\u001b[1;32m The Metro critere is respected for -->  schmittii \u001b[1;32m  <-- with a proportion of -->  0.028 \u001b[1;32m  <--\n",
      "\u001b[1;32m The Metro critere is respected for -->  virginiana \u001b[1;32m  <-- with a proportion of -->  0.024 \u001b[1;32m  <--\n",
      "\u001b[1;32m The Metro critere is respected for -->  incisa \u001b[1;32m  <-- with a proportion of -->  0.024 \u001b[1;32m  <--\n",
      "\u001b[1;32m The Metro critere is respected for -->  falcata \u001b[1;32m  <-- with a proportion of -->  0.024 \u001b[1;32m  <--\n",
      "\u001b[1;32m The Metro critere is respected for -->  armeniaca \u001b[1;32m  <-- with a proportion of -->  0.024 \u001b[1;32m  <--\n",
      "\u001b[1;32m The Metro critere is respected for -->  germanica \u001b[1;32m  <-- with a proportion of -->  0.024 \u001b[1;32m  <--\n",
      "\u001b[1;32m The Metro critere is respected for -->  torminalis \u001b[1;32m  <-- with a proportion of -->  0.024 \u001b[1;32m  <--\n",
      "\u001b[1;32m The Metro critere is respected for -->  controversa \u001b[1;32m  <-- with a proportion of -->  0.024 \u001b[1;32m  <--\n",
      "\u001b[1;32m The Metro critere is respected for -->  tashkentensis \u001b[1;32m  <-- with a proportion of -->  0.024 \u001b[1;32m  <--\n",
      "\u001b[1;32m The Metro critere is respected for -->  laevis \u001b[1;32m  <-- with a proportion of -->  0.021 \u001b[1;32m  <--\n",
      "\u001b[1;32m The Metro critere is respected for -->  trilobata \u001b[1;32m  <-- with a proportion of -->  0.021 \u001b[1;32m  <--\n",
      "\u001b[1;32m The Metro critere is respected for -->  matsudana \u001b[1;32m  <-- with a proportion of -->  0.021 \u001b[1;32m  <--\n",
      "\u001b[1;32m The Metro critere is respected for -->  stenoptera \u001b[1;32m  <-- with a proportion of -->  0.021 \u001b[1;32m  <--\n",
      "\u001b[1;32m The Metro critere is respected for -->  lusitanica \u001b[1;32m  <-- with a proportion of -->  0.021 \u001b[1;32m  <--\n",
      "\u001b[1;32m The Metro critere is respected for -->  florida \u001b[1;32m  <-- with a proportion of -->  0.021 \u001b[1;32m  <--\n",
      "\u001b[1;32m The Metro critere is respected for -->  hispida \u001b[1;32m  <-- with a proportion of -->  0.021 \u001b[1;32m  <--\n",
      "\u001b[1;32m The Metro critere is respected for -->  phillyreoides \u001b[1;32m  <-- with a proportion of -->  0.021 \u001b[1;32m  <--\n",
      "\u001b[1;32m The Metro critere is respected for -->  acutissima \u001b[1;32m  <-- with a proportion of -->  0.021 \u001b[1;32m  <--\n",
      "\u001b[1;32m The Metro critere is respected for -->  myrsinifolia \u001b[1;32m  <-- with a proportion of -->  0.017 \u001b[1;32m  <--\n",
      "\u001b[1;32m The Metro critere is respected for -->  tricotonum \u001b[1;32m  <-- with a proportion of -->  0.017 \u001b[1;32m  <--\n",
      "\u001b[1;32m The Metro critere is respected for -->  decidua \u001b[1;32m  <-- with a proportion of -->  0.017 \u001b[1;32m  <--\n",
      "\u001b[1;32m The Metro critere is respected for -->  aucuparia \u001b[1;32m  <-- with a proportion of -->  0.017 \u001b[1;32m  <--\n",
      "\u001b[1;32m The Metro critere is respected for -->  euchlora \u001b[1;32m  <-- with a proportion of -->  0.017 \u001b[1;32m  <--\n",
      "\u001b[1;32m The Metro critere is respected for -->  nootkatensis \u001b[1;32m  <-- with a proportion of -->  0.017 \u001b[1;32m  <--\n",
      "\u001b[1;32m The Metro critere is respected for -->  simonii \u001b[1;32m  <-- with a proportion of -->  0.017 \u001b[1;32m  <--\n",
      "\u001b[1;32m The Metro critere is respected for -->  virginicus \u001b[1;32m  <-- with a proportion of -->  0.017 \u001b[1;32m  <--\n",
      "\u001b[1;32m The Metro critere is respected for -->  parvifolia \u001b[1;32m  <-- with a proportion of -->  0.017 \u001b[1;32m  <--\n",
      "\u001b[1;32m The Metro critere is respected for -->  polycarpa \u001b[1;32m  <-- with a proportion of -->  0.017 \u001b[1;32m  <--\n",
      "\u001b[1;32m The Metro critere is respected for -->  purpurea \u001b[1;32m  <-- with a proportion of -->  0.017 \u001b[1;32m  <--\n",
      "\u001b[1;32m The Metro critere is respected for -->  triandra \u001b[1;32m  <-- with a proportion of -->  0.017 \u001b[1;32m  <--\n",
      "\u001b[1;32m The Metro critere is respected for -->  spectabilis \u001b[1;32m  <-- with a proportion of -->  0.017 \u001b[1;32m  <--\n",
      "\u001b[1;32m The Metro critere is respected for -->  tartaricum \u001b[1;32m  <-- with a proportion of -->  0.017 \u001b[1;32m  <--\n",
      "\u001b[1;32m The Metro critere is respected for -->  granatum \u001b[1;32m  <-- with a proportion of -->  0.014 \u001b[1;32m  <--\n",
      "\u001b[1;32m The Metro critere is respected for -->  caprea \u001b[1;32m  <-- with a proportion of -->  0.014 \u001b[1;32m  <--\n",
      "\u001b[1;32m The Metro critere is respected for -->  omorika \u001b[1;32m  <-- with a proportion of -->  0.014 \u001b[1;32m  <--\n",
      "\u001b[1;32m The Metro critere is respected for -->  trifoliata \u001b[1;32m  <-- with a proportion of -->  0.014 \u001b[1;32m  <--\n",
      "\u001b[1;32m The Metro critere is respected for -->  lavallei \u001b[1;32m  <-- with a proportion of -->  0.014 \u001b[1;32m  <--\n",
      "\u001b[1;32m The Metro critere is respected for -->  griseum \u001b[1;32m  <-- with a proportion of -->  0.014 \u001b[1;32m  <--\n",
      "\u001b[1;32m The Metro critere is respected for -->  triflorum \u001b[1;32m  <-- with a proportion of -->  0.014 \u001b[1;32m  <--\n",
      "\u001b[1;32m The Metro critere is respected for -->  sepulcralis \u001b[1;32m  <-- with a proportion of -->  0.014 \u001b[1;32m  <--\n",
      "\u001b[1;32m The Metro critere is respected for -->  rysophylla \u001b[1;32m  <-- with a proportion of -->  0.014 \u001b[1;32m  <--\n",
      "\u001b[1;32m The Metro critere is respected for -->  bicolor \u001b[1;32m  <-- with a proportion of -->  0.014 \u001b[1;32m  <--\n",
      "\u001b[1;32m The Metro critere is respected for -->  sieboldiana \u001b[1;32m  <-- with a proportion of -->  0.014 \u001b[1;32m  <--\n",
      "\u001b[1;32m The Metro critere is respected for -->  sinense \u001b[1;32m  <-- with a proportion of -->  0.014 \u001b[1;32m  <--\n",
      "\u001b[1;32m The Metro critere is respected for -->  concolor \u001b[1;32m  <-- with a proportion of -->  0.01 \u001b[1;32m  <--\n",
      "\u001b[1;32m The Metro critere is respected for -->  hupehensis \u001b[1;32m  <-- with a proportion of -->  0.01 \u001b[1;32m  <--\n",
      "\u001b[1;32m The Metro critere is respected for -->  cuspidata \u001b[1;32m  <-- with a proportion of -->  0.01 \u001b[1;32m  <--\n",
      "\u001b[1;32m The Metro critere is respected for -->  alnifolia \u001b[1;32m  <-- with a proportion of -->  0.01 \u001b[1;32m  <--\n",
      "\u001b[1;32m The Metro critere is respected for -->  parviflora \u001b[1;32m  <-- with a proportion of -->  0.01 \u001b[1;32m  <--\n",
      "\u001b[1;32m The Metro critere is respected for -->  harringtonia \u001b[1;32m  <-- with a proportion of -->  0.01 \u001b[1;32m  <--\n",
      "\u001b[1;32m The Metro critere is respected for -->  pavia \u001b[1;32m  <-- with a proportion of -->  0.01 \u001b[1;32m  <--\n",
      "\u001b[1;32m The Metro critere is respected for -->  trojana \u001b[1;32m  <-- with a proportion of -->  0.01 \u001b[1;32m  <--\n",
      "\u001b[1;32m The Metro critere is respected for -->  coccinea \u001b[1;32m  <-- with a proportion of -->  0.01 \u001b[1;32m  <--\n",
      "\u001b[1;32m The Metro critere is respected for -->  fragmantissima \u001b[1;32m  <-- with a proportion of -->  0.01 \u001b[1;32m  <--\n",
      "\u001b[1;32m The Metro critere is respected for -->  syriacus \u001b[1;32m  <-- with a proportion of -->  0.01 \u001b[1;32m  <--\n",
      "\u001b[1;32m The Metro critere is respected for -->  pyrifolia \u001b[1;32m  <-- with a proportion of -->  0.01 \u001b[1;32m  <--\n",
      "\u001b[1;32m The Metro critere is respected for -->  thuringiaca \u001b[1;32m  <-- with a proportion of -->  0.01 \u001b[1;32m  <--\n",
      "\u001b[1;32m The Metro critere is respected for -->  hybride \u001b[1;32m  <-- with a proportion of -->  0.01 \u001b[1;32m  <--\n",
      "\u001b[1;32m The Metro critere is respected for -->  palmatum \u001b[1;32m  <-- with a proportion of -->  0.007 \u001b[1;32m  <--\n",
      "\u001b[1;32m The Metro critere is respected for -->  serotina \u001b[1;32m  <-- with a proportion of -->  0.007 \u001b[1;32m  <--\n",
      "\u001b[1;32m The Metro critere is respected for -->  crus-galli \u001b[1;32m  <-- with a proportion of -->  0.007 \u001b[1;32m  <--\n",
      "\u001b[1;32m The Metro critere is respected for -->  stellata \u001b[1;32m  <-- with a proportion of -->  0.007 \u001b[1;32m  <--\n",
      "\u001b[1;32m The Metro critere is respected for -->  praecox \u001b[1;32m  <-- with a proportion of -->  0.007 \u001b[1;32m  <--\n",
      "\u001b[1;32m The Metro critere is respected for -->  pinsapo \u001b[1;32m  <-- with a proportion of -->  0.007 \u001b[1;32m  <--\n",
      "\u001b[1;32m The Metro critere is respected for -->  pinea \u001b[1;32m  <-- with a proportion of -->  0.007 \u001b[1;32m  <--\n",
      "\u001b[1;32m The Metro critere is respected for -->  crenata \u001b[1;32m  <-- with a proportion of -->  0.007 \u001b[1;32m  <--\n",
      "\u001b[1;32m The Metro critere is respected for -->  macrophyllum \u001b[1;32m  <-- with a proportion of -->  0.007 \u001b[1;32m  <--\n",
      "\u001b[1;32m The Metro critere is respected for -->  pumila \u001b[1;32m  <-- with a proportion of -->  0.007 \u001b[1;32m  <--\n",
      "\u001b[1;32m The Metro critere is respected for -->  laciniosa \u001b[1;32m  <-- with a proportion of -->  0.007 \u001b[1;32m  <--\n",
      "\u001b[1;32m The Metro critere is respected for -->  turneri \u001b[1;32m  <-- with a proportion of -->  0.007 \u001b[1;32m  <--\n",
      "\u001b[1;32m The Metro critere is respected for -->  carpinifolium \u001b[1;32m  <-- with a proportion of -->  0.007 \u001b[1;32m  <--\n",
      "\u001b[1;32m The Metro critere is respected for -->  araucana \u001b[1;32m  <-- with a proportion of -->  0.007 \u001b[1;32m  <--\n",
      "\u001b[1;32m The Metro critere is respected for -->  heldreichii \u001b[1;32m  <-- with a proportion of -->  0.007 \u001b[1;32m  <--\n",
      "\u001b[1;32m The Metro critere is respected for -->  rosmarinifolia \u001b[1;32m  <-- with a proportion of -->  0.007 \u001b[1;32m  <--\n",
      "\u001b[1;32m The Metro critere is respected for -->  sanguinea \u001b[1;32m  <-- with a proportion of -->  0.007 \u001b[1;32m  <--\n",
      "\u001b[1;32m The Metro critere is respected for -->  campanulata \u001b[1;32m  <-- with a proportion of -->  0.007 \u001b[1;32m  <--\n",
      "\u001b[1;32m The Metro critere is respected for -->  racemosa \u001b[1;32m  <-- with a proportion of -->  0.007 \u001b[1;32m  <--\n",
      "\u001b[1;32m The Metro critere is respected for -->  bungeana \u001b[1;32m  <-- with a proportion of -->  0.007 \u001b[1;32m  <--\n",
      "\u001b[1;32m The Metro critere is respected for -->  amygdalus \u001b[1;32m  <-- with a proportion of -->  0.007 \u001b[1;32m  <--\n",
      "\u001b[1;32m The Metro critere is respected for -->  dealbata \u001b[1;32m  <-- with a proportion of -->  0.003 \u001b[1;32m  <--\n",
      "\u001b[1;32m The Metro critere is respected for -->  menziesii \u001b[1;32m  <-- with a proportion of -->  0.003 \u001b[1;32m  <--\n",
      "\u001b[1;32m The Metro critere is respected for -->  quadrangulata \u001b[1;32m  <-- with a proportion of -->  0.003 \u001b[1;32m  <--\n",
      "\u001b[1;32m The Metro critere is respected for -->  verticillata \u001b[1;32m  <-- with a proportion of -->  0.003 \u001b[1;32m  <--\n",
      "\u001b[1;32m The Metro critere is respected for -->  auricularis \u001b[1;32m  <-- with a proportion of -->  0.003 \u001b[1;32m  <--\n",
      "\u001b[1;32m The Metro critere is respected for -->  gunii \u001b[1;32m  <-- with a proportion of -->  0.003 \u001b[1;32m  <--\n",
      "\u001b[1;32m The Metro critere is respected for -->  heptapeta \u001b[1;32m  <-- with a proportion of -->  0.003 \u001b[1;32m  <--\n",
      "\u001b[1;32m The Metro critere is respected for -->  drupacea \u001b[1;32m  <-- with a proportion of -->  0.003 \u001b[1;32m  <--\n",
      "\u001b[1;32m The Metro critere is respected for -->  capillipes \u001b[1;32m  <-- with a proportion of -->  0.003 \u001b[1;32m  <--\n",
      "\u001b[1;32m The Metro critere is respected for -->  pisifera \u001b[1;32m  <-- with a proportion of -->  0.003 \u001b[1;32m  <--\n",
      "\u001b[1;32m The Metro critere is respected for -->  sativa \u001b[1;32m  <-- with a proportion of -->  0.003 \u001b[1;32m  <--\n",
      "\u001b[1;32m The Metro critere is respected for -->  foetida \u001b[1;32m  <-- with a proportion of -->  0.003 \u001b[1;32m  <--\n",
      "\u001b[1;32m The Metro critere is respected for -->  strobus \u001b[1;32m  <-- with a proportion of -->  0.003 \u001b[1;32m  <--\n",
      "\u001b[1;32m The Metro critere is respected for -->  chandelle seche \u001b[1;32m  <-- with a proportion of -->  0.003 \u001b[1;32m  <--\n",
      "\u001b[1;32m The Metro critere is respected for -->  nobilis \u001b[1;32m  <-- with a proportion of -->  0.003 \u001b[1;32m  <--\n",
      "\u001b[1;32m The Metro critere is respected for -->  macrolepis \u001b[1;32m  <-- with a proportion of -->  0.003 \u001b[1;32m  <--\n",
      "\u001b[1;32m The Metro critere is respected for -->  elaeagnifolia \u001b[1;32m  <-- with a proportion of -->  0.003 \u001b[1;32m  <--\n",
      "\u001b[1;32m The Metro critere is respected for -->  denboerii \u001b[1;32m  <-- with a proportion of -->  0.003 \u001b[1;32m  <--\n",
      "\u001b[1;32m The Metro critere is respected for -->  formosensis \u001b[1;32m  <-- with a proportion of -->  0.003 \u001b[1;32m  <--\n",
      "\u001b[1;32m The Metro critere is respected for -->  monticola \u001b[1;32m  <-- with a proportion of -->  0.003 \u001b[1;32m  <--\n",
      "\u001b[1;32m The Metro critere is respected for -->  macrocarpa \u001b[1;32m  <-- with a proportion of -->  0.003 \u001b[1;32m  <--\n",
      "\u001b[1;32m The Metro critere is respected for -->  zoeschense \u001b[1;32m  <-- with a proportion of -->  0.003 \u001b[1;32m  <--\n",
      "\u001b[1;32m The Metro critere is respected for -->  griffithii \u001b[1;32m  <-- with a proportion of -->  0.003 \u001b[1;32m  <--\n",
      "\u001b[1;32m The Metro critere is respected for -->  kentukea \u001b[1;32m  <-- with a proportion of -->  0.003 \u001b[1;32m  <--\n",
      "\u001b[1;32m The Metro critere is respected for -->  mahaleb \u001b[1;32m  <-- with a proportion of -->  0.003 \u001b[1;32m  <--\n",
      "\u001b[1;32m The Metro critere is respected for -->  koreana \u001b[1;32m  <-- with a proportion of -->  0.003 \u001b[1;32m  <--\n",
      "\u001b[1;32m The Metro critere is respected for -->  prunifolia \u001b[1;32m  <-- with a proportion of -->  0.003 \u001b[1;32m  <--\n",
      "\u001b[1;32m The Metro critere is respected for -->  cordiformis \u001b[1;32m  <-- with a proportion of -->  0.003 \u001b[1;32m  <--\n",
      "\u001b[1;32m The Metro critere is respected for -->  heterophylla \u001b[1;32m  <-- with a proportion of -->  0.003 \u001b[1;32m  <--\n",
      "\u001b[1;32m The Metro critere is respected for -->  bumalda \u001b[1;32m  <-- with a proportion of -->  0.003 \u001b[1;32m  <--\n",
      "\u001b[1;32m The Metro critere is respected for -->  opalus \u001b[1;32m  <-- with a proportion of -->  0.003 \u001b[1;32m  <--\n",
      "\u001b[1;32m The Metro critere is respected for -->  alaternus \u001b[1;32m  <-- with a proportion of -->  0.003 \u001b[1;32m  <--\n",
      "\u001b[1;32m The Metro critere is respected for -->  mugo \u001b[1;32m  <-- with a proportion of -->  0.003 \u001b[1;32m  <--\n",
      "\u001b[1;32m The Metro critere is respected for -->  liliflora \u001b[1;32m  <-- with a proportion of -->  0.003 \u001b[1;32m  <--\n",
      "\u001b[1;32m The Metro critere is respected for -->  cachemeriana \u001b[1;32m  <-- with a proportion of -->  0.003 \u001b[1;32m  <--\n",
      "\u001b[1;32m The Metro critere is respected for -->  chamaemespilus \u001b[1;32m  <-- with a proportion of -->  0.003 \u001b[1;32m  <--\n",
      "\u001b[1;32m The Metro critere is respected for -->  ioenis \u001b[1;32m  <-- with a proportion of -->  0.003 \u001b[1;32m  <--\n"
     ]
    }
   ],
   "source": [
    "def check_metro_species(speciesDict:dict) -> bool:\n",
    "    \n",
    "    critereMax = 10 \n",
    "    is_validate = True\n",
    "    \n",
    "    for key in speciesDict.keys():\n",
    "        if speciesDict[key][\"proportion\"]:\n",
    "            pass\n",
    "        else:\n",
    "            speciesDict = compute_proportion(speciesDict)\n",
    "    \n",
    "    for key in speciesDict.keys():\n",
    "        if speciesDict[key][\"proportion\"] < critereMax:\n",
    "            print(green, \"The Metro critere is respected for --> \", key, green, \" <-- with a proportion of --> \",speciesDict[key][\"proportion\"], green, \" <--\" )\n",
    "        else:\n",
    "            print(red, \"The Metro critere is not respected for --> \",  key, red, \" <-- with a proportion of --> \",speciesDict[key][\"proportion\"], red, \" <--\" )\n",
    "            is_validate = False\n",
    "    return is_validate\n",
    "isMetroSpeciesValidate = check_metro_species(proportionSpeciesDict)"
   ]
  },
  {
   "cell_type": "code",
   "execution_count": 37,
   "id": "00cdee45",
   "metadata": {},
   "outputs": [
    {
     "name": "stdout",
     "output_type": "stream",
     "text": [
      "\u001b[41mMetro test FAILED\n"
     ]
    }
   ],
   "source": [
    "if isMetroGenreValidate and isMetroSpeciesValidate:\n",
    "    print(Back.GREEN + 'Metro test PASSED')\n",
    "else:\n",
    "    print(Back.RED + 'Metro test FAILED')"
   ]
  },
  {
   "cell_type": "code",
   "execution_count": null,
   "id": "20d67d97",
   "metadata": {},
   "outputs": [],
   "source": []
  },
  {
   "cell_type": "code",
   "execution_count": null,
   "id": "15d467a0",
   "metadata": {},
   "outputs": [],
   "source": []
  }
 ],
 "metadata": {
  "kernelspec": {
   "display_name": "Python 3 (ipykernel)",
   "language": "python",
   "name": "python3"
  },
  "language_info": {
   "codemirror_mode": {
    "name": "ipython",
    "version": 3
   },
   "file_extension": ".py",
   "mimetype": "text/x-python",
   "name": "python",
   "nbconvert_exporter": "python",
   "pygments_lexer": "ipython3",
   "version": "3.9.13"
  }
 },
 "nbformat": 4,
 "nbformat_minor": 5
}
