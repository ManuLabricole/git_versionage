{
 "cells": [
  {
   "cell_type": "code",
   "execution_count": 51,
   "id": "1c6b2e6f",
   "metadata": {},
   "outputs": [],
   "source": [
    "import csv\n",
    "import pandas as pd\n",
    "import numpy as np\n",
    "import matplotlib.pyplot as plt\n",
    "import matplotlib"
   ]
  },
  {
   "cell_type": "markdown",
   "id": "167f3ddf",
   "metadata": {},
   "source": [
    "# Import csv"
   ]
  },
  {
   "cell_type": "markdown",
   "id": "cbe28afd",
   "metadata": {},
   "source": [
    "## Main import"
   ]
  },
  {
   "cell_type": "code",
   "execution_count": 52,
   "id": "e0c6baec",
   "metadata": {},
   "outputs": [],
   "source": [
    "with open('../data/ESP_PUBLIC.IDENTITE_ARBRE.csv', newline='', encoding='utf-8-sig') as csvfile:\n",
    "    # use \",\" separator to generate column value as list element\n",
    "    # cs.reader return a class object of \"_csv.reader\"\n",
    "    dataTemp = csv.reader(csvfile, delimiter=',')\n",
    "    \n",
    "    # Use list() to convert the csv object into a list, of list, depending on how the object is built\n",
    "    # Hard to understand how list(csv_object) behaves \n",
    "    data = list(dataTemp)"
   ]
  },
  {
   "cell_type": "markdown",
   "id": "7b1ba073",
   "metadata": {},
   "source": [
    "## Copy the dataset to advoid re-import"
   ]
  },
  {
   "cell_type": "code",
   "execution_count": 53,
   "id": "2bd28817",
   "metadata": {},
   "outputs": [],
   "source": [
    "dataset = data"
   ]
  },
  {
   "cell_type": "markdown",
   "id": "ef74e503",
   "metadata": {},
   "source": [
    "## Correct last row\n"
   ]
  },
  {
   "cell_type": "code",
   "execution_count": 54,
   "id": "3452634e",
   "metadata": {},
   "outputs": [
    {
     "name": "stdout",
     "output_type": "stream",
     "text": [
      "Added a value in : ['MISSING', 'ESP14073', 'ESP14073', 'VEG', 'VEGETATION', 'ESP01', 'Arbre', 'ESP151', 'Arbre de voirie', 'ESP336', 'R M Gontard angle M Deprez', '2', 'AR14073', 'Prunus', 'serrulata', '', 'Arbre adulte', '', '', '1995', '', '', '', '', '', '', '', '', '', '', 'Grenoble Alpes Métropole', '{\"type\":\"Point\",\"coordinates\":[5.72422659146747,45.1920566916671]}']\n",
      "['MISSING', 'ESP14073', 'ESP14073', 'VEG', 'VEGETATION', 'ESP01', 'Arbre', 'ESP151', 'Arbre de voirie', 'ESP336', 'R M Gontard angle M Deprez', '2', 'AR14073', 'Prunus', 'serrulata', '', 'Arbre adulte', '', '', '1995', '', '', '', '', '', '', '', '', '', '', 'Grenoble Alpes Métropole', '{\"type\":\"Point\",\"coordinates\":[5.72422659146747,45.1920566916671]}']\n"
     ]
    }
   ],
   "source": [
    "def add_missing_value(dataset:list) -> list:\n",
    "    datasetCopy = dataset\n",
    "    \n",
    "    if len(datasetCopy[len(datasetCopy)-1]) == 31:\n",
    "        datasetCopy[len(datasetCopy)-1].insert(0, \"MISSING\")\n",
    "        print(f\"Added a value in : {datasetCopy[len(datasetCopy)-1]}\")\n",
    "    else:\n",
    "        print(f\"{datasetCopy[len(datasetCopy)-1]} was already added...\")\n",
    "        print(f\"{len(datasetCopy)-1} is the last rows of the dataset and should start with 'MISSING' value\")\n",
    "\n",
    "    return datasetCopy\n",
    "print(add_missing_value(dataset)[len(dataset)-1])"
   ]
  },
  {
   "cell_type": "markdown",
   "id": "4db44d8d",
   "metadata": {},
   "source": [
    "## Utils"
   ]
  },
  {
   "cell_type": "code",
   "execution_count": 55,
   "id": "5769eae9",
   "metadata": {},
   "outputs": [],
   "source": [
    "def get_header(data:list) -> list:\n",
    "    if len(data) > 0:\n",
    "        return data[0]\n",
    "    else:\n",
    "        raise ValueError(\"The dataset sent is empty...\")"
   ]
  },
  {
   "cell_type": "code",
   "execution_count": 56,
   "id": "c88c9f75",
   "metadata": {},
   "outputs": [],
   "source": [
    "def get_dict_colName_colNum(data:list) -> dict:\n",
    "    dictTemp = {}\n",
    "    \n",
    "    for el in get_header(data):\n",
    "        dictTemp[el] = get_header(data).index(el)\n",
    "        \n",
    "    return dictTemp\n",
    "# print(get_dict_colName_colNum(dataset))"
   ]
  },
  {
   "cell_type": "code",
   "execution_count": 57,
   "id": "431b2dc5",
   "metadata": {},
   "outputs": [],
   "source": [
    "def is_in_header(colName:str, data:list) -> bool:\n",
    "    return colName in get_header(data)\n",
    "# print(is_in_header(\"GENRE_DESC\", dataset))"
   ]
  },
  {
   "cell_type": "code",
   "execution_count": 58,
   "id": "20aaabd0",
   "metadata": {},
   "outputs": [],
   "source": [
    "def average(col:list) -> float:\n",
    "    for el in col:\n",
    "        if type(el) is not float:\n",
    "            raise TypeError(\"The list sent doesn't have float or contains empty string\")\n",
    "    return sum(col)/len(col)"
   ]
  },
  {
   "cell_type": "markdown",
   "id": "a236133b",
   "metadata": {},
   "source": [
    "# -----------------------------------------------------------------------------------------------------------"
   ]
  },
  {
   "cell_type": "markdown",
   "id": "6da2890e",
   "metadata": {},
   "source": [
    "# Iteration 1 : Main computation"
   ]
  },
  {
   "cell_type": "markdown",
   "id": "59611850",
   "metadata": {},
   "source": [
    "# -----------------------------------------------------------------------------------------------------------"
   ]
  },
  {
   "cell_type": "markdown",
   "id": "68632f74",
   "metadata": {},
   "source": [
    "## Afficher deux premieres lignes"
   ]
  },
  {
   "cell_type": "code",
   "execution_count": 59,
   "id": "8a2d47c5",
   "metadata": {},
   "outputs": [],
   "source": [
    "# Slice and extract the first two list ie the first two lignes\n",
    "header = get_header(dataset)\n",
    "lignes2 = dataset[0:2]\n",
    "\n",
    "specDataset = {\n",
    "    \"rows\" : len(dataset),\n",
    "    \"columns\" : len(dataset[0])\n",
    "}"
   ]
  },
  {
   "cell_type": "markdown",
   "id": "c5bf2783",
   "metadata": {},
   "source": [
    "## Afficher colonne n°2"
   ]
  },
  {
   "cell_type": "code",
   "execution_count": 60,
   "id": "6fd184d4",
   "metadata": {},
   "outputs": [],
   "source": [
    "# We see that to access the row is [i] after lignes2. \n",
    "# Then we have the list corresponding to the row i-1 (start from 0)\n",
    "# In this list, we use [i] to acces the i element corresponding to the column\n",
    "ligne1_col2 = lignes2[0][1]\n",
    "ligne2_col2 = lignes2[1][1]"
   ]
  },
  {
   "cell_type": "code",
   "execution_count": 61,
   "id": "afd8a76a",
   "metadata": {},
   "outputs": [
    {
     "name": "stdout",
     "output_type": "stream",
     "text": [
      "CODE : ESP29285\n"
     ]
    }
   ],
   "source": [
    "print(ligne1_col2 + \" : \" + ligne2_col2)"
   ]
  },
  {
   "cell_type": "markdown",
   "id": "28f9450b",
   "metadata": {},
   "source": [
    "## Get 50 first & last"
   ]
  },
  {
   "cell_type": "code",
   "execution_count": 62,
   "id": "8fb107b6",
   "metadata": {},
   "outputs": [],
   "source": [
    "# Should be called when having a list coming from : get_col_values()\n",
    "def extract_50(col:list) -> list:\n",
    "    if len(col) > 100:\n",
    "        return col[:50]+ [\"------> more values\"] + col[len(col)-50:]\n",
    "    else:\n",
    "        raise ValueError(f\"List {col} has less than 100 elements\")\n",
    "# extract_50(colList)"
   ]
  },
  {
   "cell_type": "markdown",
   "id": "182f780d",
   "metadata": {},
   "source": [
    "## Infos année plantation data"
   ]
  },
  {
   "cell_type": "code",
   "execution_count": 63,
   "id": "21c3dc89",
   "metadata": {},
   "outputs": [
    {
     "name": "stdout",
     "output_type": "stream",
     "text": [
      "['ELEM_POINT_ID', 'CODE', 'NOM', 'GENRE', 'GENRE_DESC', 'CATEGORIE', 'CATEGORIE_DESC', 'SOUS_CATEGORIE', 'SOUS_CATEGORIE_DESC', 'CODE_PARENT', 'CODE_PARENT_DESC', 'ADR_SECTEUR', 'BIEN_REFERENCE', 'GENRE_BOTA', 'ESPECE', 'VARIETE', 'STADEDEDEVELOPPEMENT', 'EQUIPE', 'REMARQUES', 'ANNEEDEPLANTATION', 'RAISONDEPLANTATION', 'TRAITEMENTCHENILLES', 'COURRIER', 'IDENTIFIANTPLU', 'TYPEIMPLANTATIONPLU', 'INTITULEPROTECTIONPLU', 'ANNEEABATTAGE', 'ESSOUCHEMENT', 'DIAMETREARBRE', 'CAUSEABATTAGE', 'COLLECTIVITE', 'GeoJSON']\n"
     ]
    }
   ],
   "source": [
    "print(get_header(dataset))"
   ]
  },
  {
   "cell_type": "code",
   "execution_count": 64,
   "id": "c88d1c2d",
   "metadata": {},
   "outputs": [],
   "source": [
    "def get_col_value_from_name(colName:str, data:list) -> str:\n",
    "    \n",
    "    if is_in_header(colName, data):\n",
    "        return get_dict_colName_colNum(data)[colName]\n",
    "    \n",
    "# print(get_col_value_from_name(colName=\"CODE_PARENT\", data=dataset))"
   ]
  },
  {
   "cell_type": "code",
   "execution_count": 65,
   "id": "4987fde7",
   "metadata": {},
   "outputs": [],
   "source": [
    "def get_col_values(colName:str, data:list) -> list:\n",
    "    \n",
    "    col = [el[get_col_value_from_name(colName, data)] for el in data]\n",
    "    \n",
    "    return col\n",
    "# print(get_col_values(\"ANNEEDEPLANTATION\", dataset))"
   ]
  },
  {
   "cell_type": "markdown",
   "id": "79c56bfe",
   "metadata": {},
   "source": [
    "### Trees column parsing utils"
   ]
  },
  {
   "cell_type": "code",
   "execution_count": 66,
   "id": "0b7b78c6",
   "metadata": {},
   "outputs": [],
   "source": [
    "colToStudy = \"ANNEEDEPLANTATION\""
   ]
  },
  {
   "cell_type": "code",
   "execution_count": 67,
   "id": "3ef20397",
   "metadata": {},
   "outputs": [
    {
     "name": "stdout",
     "output_type": "stream",
     "text": [
      "there is --> 31620 <-- trees studied\n"
     ]
    }
   ],
   "source": [
    "colList = get_col_values(colToStudy, dataset)\n",
    "colYearTree = colList\n",
    "print(\"there is --> \" + str(len(colList)) + \" <-- trees studied\")"
   ]
  },
  {
   "cell_type": "code",
   "execution_count": 68,
   "id": "ccfeab64",
   "metadata": {},
   "outputs": [],
   "source": [
    "def count_empty_value(col:list) -> int:\n",
    "    \n",
    "    emptyList = [el for el in col if not el]\n",
    "    \n",
    "    return len(emptyList)"
   ]
  },
  {
   "cell_type": "code",
   "execution_count": 69,
   "id": "ea563109",
   "metadata": {},
   "outputs": [
    {
     "name": "stdout",
     "output_type": "stream",
     "text": [
      "there is --> 1438 <-- empty values in ANNEEDEPLANTATION\n"
     ]
    }
   ],
   "source": [
    "print(\"there is --> \" + str(count_empty_value(colList)) + \" <-- empty values in \" + colToStudy )"
   ]
  },
  {
   "cell_type": "code",
   "execution_count": 70,
   "id": "4c60b1b0",
   "metadata": {},
   "outputs": [],
   "source": [
    "def remove_empty(col:list) -> list:\n",
    "    return [el for el in col if el]"
   ]
  },
  {
   "cell_type": "code",
   "execution_count": 71,
   "id": "b1946c26",
   "metadata": {},
   "outputs": [],
   "source": [
    "def get_min(col:list) -> int:\n",
    "    \n",
    "    colValues = remove_empty(col)\n",
    "    \n",
    "    # Slice to get rid off the header\n",
    "    return float(min(colValues[1:]))"
   ]
  },
  {
   "cell_type": "code",
   "execution_count": 72,
   "id": "bbd4c551",
   "metadata": {},
   "outputs": [],
   "source": [
    "def get_max(col:list) -> int:\n",
    "    \n",
    "    colValues = remove_empty(col)\n",
    "    \n",
    "    # Slice to get rid off the header\n",
    "    return float(max(colValues[1:]))"
   ]
  },
  {
   "cell_type": "markdown",
   "id": "2fc022cb",
   "metadata": {},
   "source": [
    "### Count trees for each year in dataset"
   ]
  },
  {
   "cell_type": "code",
   "execution_count": 73,
   "id": "492028c3",
   "metadata": {},
   "outputs": [],
   "source": [
    "def count_specific_value_in_col(value:str, col:list) -> int:\n",
    "    \n",
    "    valuesCorresponding = [el for el in col if str(el) == str(value)]  \n",
    "    \n",
    "    return len(valuesCorresponding)"
   ]
  },
  {
   "cell_type": "code",
   "execution_count": 74,
   "id": "ff5b5f63",
   "metadata": {},
   "outputs": [
    {
     "name": "stdout",
     "output_type": "stream",
     "text": [
      "There was 252 trees planted in 1994\n"
     ]
    }
   ],
   "source": [
    "valueToFind = \"1994\"\n",
    "print(f\"There was {count_specific_value_in_col(valueToFind, colList)} trees planted in {valueToFind}\")"
   ]
  },
  {
   "cell_type": "code",
   "execution_count": 75,
   "id": "56b9220c",
   "metadata": {},
   "outputs": [
    {
     "name": "stdout",
     "output_type": "stream",
     "text": [
      "The oldest year of plantation is : 1900.0\n",
      "The last year of plantation is : 2021.0\n"
     ]
    }
   ],
   "source": [
    "print(f\"The oldest year of plantation is : {get_min(colList)}\")\n",
    "print(f\"The last year of plantation is : {get_max(colList)}\")"
   ]
  },
  {
   "cell_type": "markdown",
   "id": "8e7a2eb1",
   "metadata": {},
   "source": [
    "### Count trees for each year in dataset"
   ]
  },
  {
   "cell_type": "code",
   "execution_count": 76,
   "id": "4b6511a9",
   "metadata": {},
   "outputs": [],
   "source": [
    "# This method compute for each year the number of trees planted\n",
    "# Then it compute the average taking into account only the trees where the year is known\n",
    "def average_trees_planted(col:list) -> dict:\n",
    "    cleanList = remove_empty(col[1:])\n",
    "    removeDuplicate = set(cleanList)\n",
    "    \n",
    "    nbTreesPerYear = [float(count_specific_value_in_col(el,col)) for el in removeDuplicate]\n",
    "    print(f\"Nombre d'annees connues ou des arbres ont été planté : {len(removeDuplicate)}\")\n",
    "    return round(average(nbTreesPerYear),2)"
   ]
  },
  {
   "cell_type": "code",
   "execution_count": 77,
   "id": "3d20cc07",
   "metadata": {},
   "outputs": [
    {
     "name": "stdout",
     "output_type": "stream",
     "text": [
      "Nombre d'annees connues ou des arbres ont été planté : 65\n",
      "La moyenne n°1 des arbres plantés est : 464.32\n"
     ]
    }
   ],
   "source": [
    "print(f\"La moyenne n°1 des arbres plantés est : {average_trees_planted(colList)}\")"
   ]
  },
  {
   "cell_type": "code",
   "execution_count": 78,
   "id": "87334162",
   "metadata": {},
   "outputs": [],
   "source": [
    "# This function compute the average taking into account\n",
    "# The total number of trees in the dataset\n",
    "# The max and min year known\n",
    "\n",
    "def rought_average(col:list) -> float:\n",
    "    # remove one on the global size due to header\n",
    "    nbArbre = float(len(col[1:]))\n",
    "    # add +1 to take into account the full 2021 year\n",
    "    interval = float(get_max(col)-get_min(col)+1)\n",
    "    \n",
    "    print(f\"Diviser total arbre : {nbArbre} par intervalle d'annee etudier {int(get_min(col))} - {int(get_max(col))}\")\n",
    "    \n",
    "    return round(nbArbre/interval,2)"
   ]
  },
  {
   "cell_type": "code",
   "execution_count": 79,
   "id": "3ba8c50d",
   "metadata": {},
   "outputs": [
    {
     "name": "stdout",
     "output_type": "stream",
     "text": [
      "Diviser total arbre : 31619.0 par intervalle d'annee etudier 1900 - 2021\n",
      "La moyenne n°2 des arbres plantés est : 259.17\n"
     ]
    }
   ],
   "source": [
    "print(f\"La moyenne n°2 des arbres plantés est : {rought_average(colList)}\")"
   ]
  },
  {
   "cell_type": "markdown",
   "id": "f8d02cb9",
   "metadata": {},
   "source": [
    "### Make tuple (year : nb_arbre)"
   ]
  },
  {
   "cell_type": "code",
   "execution_count": 80,
   "id": "271d8c0a",
   "metadata": {},
   "outputs": [],
   "source": [
    "def make_tuple_year_nbArbre(col:list) -> list:\n",
    "    cleanList = remove_empty(col[1:])\n",
    "    removeDuplicate = set(cleanList) \n",
    "    \n",
    "    return [(el, count_specific_value_in_col(el, col)) for el in removeDuplicate]"
   ]
  },
  {
   "cell_type": "code",
   "execution_count": 81,
   "id": "80fc0dd1",
   "metadata": {},
   "outputs": [],
   "source": [
    "# Sort the list of tuples (year, value) by year\n",
    "def sort_by_year(tupleList:list) -> list:\n",
    "    return sorted(tupleList, key=lambda x:x[0], reverse=True)"
   ]
  },
  {
   "cell_type": "code",
   "execution_count": 113,
   "id": "904f7bfc",
   "metadata": {},
   "outputs": [],
   "source": [
    "treeTupleList = make_tuple_year_nbArbre(colList)\n",
    "sortedTreeTupleList = sort_by_year(treeTupleList)\n",
    "# treeTupleList"
   ]
  },
  {
   "cell_type": "code",
   "execution_count": 111,
   "id": "457b139b",
   "metadata": {},
   "outputs": [],
   "source": [
    "# sortedTreeTupleList"
   ]
  },
  {
   "cell_type": "markdown",
   "id": "d6accd9b",
   "metadata": {},
   "source": [
    "### Etude des Maires"
   ]
  },
  {
   "cell_type": "code",
   "execution_count": 84,
   "id": "dec4de29",
   "metadata": {},
   "outputs": [],
   "source": [
    "maire = [['Rivail', 1904,1908],['Viallet', 1908,1910],['Cornier', 1910,1919],['Mistral', 1919,1932],['Martin', 1932,1935],['Cocat', 1935,1944],['Lafleur', 1944,1945],['Martin2', 1945,1947],['Bally', 1947,1948],['Perinetti', 1948,1949],['Martin3', 1949,1959],['Michallon', 1959,1965],['Dubedout', 1965,1983],['Carignon', 1983,1995],['Destot', 1995,2014],['Piolle', 2014,2021]]\n",
    "maireDict = {el[0]:[el[1],el[2]] for el in maire}"
   ]
  },
  {
   "cell_type": "code",
   "execution_count": 114,
   "id": "4b1e01eb",
   "metadata": {},
   "outputs": [],
   "source": [
    "def number_of_tree_per_maire(maire:dict, tupleListArbre:list) -> int:\n",
    "    \n",
    "    dictTemp = {}\n",
    "    \n",
    "    for el in tupleListArbre:\n",
    "        for maire in maireDict.keys():\n",
    "            #print(f\"Le maire {key} a reigné sur Grenoble de {maireDict[key]}\")\n",
    "            #print(type(maireDict[key][0]))\n",
    "            #print(type(el[0]))\n",
    "            #print(f\"{maireDict[maire][0]} <= {int(el[0])} < {maireDict[maire][1]} ????\")\n",
    "            if maireDict[maire][0] <= int(el[0])<maireDict[maire][1]:\n",
    "                #print(f\"The Maire {maire} planted --> {el[1]} <-- trees in the year {el[0]} during is mandat of [{maireDict[maire][0]},{maireDict[maire][1]}]\")        \n",
    "                \n",
    "                if maire in dictTemp:\n",
    "                    dictTemp[maire] += el[1]\n",
    "                else:\n",
    "                    dictTemp[maire] = el[1]\n",
    "                \n",
    "    return dictTemp"
   ]
  },
  {
   "cell_type": "code",
   "execution_count": 109,
   "id": "af62737f",
   "metadata": {},
   "outputs": [
    {
     "data": {
      "text/plain": [
       "{'Piolle': 4001,\n",
       " 'Destot': 8554,\n",
       " 'Carignon': 4264,\n",
       " 'Dubedout': 12074,\n",
       " 'Michallon': 723,\n",
       " 'Martin3': 520,\n",
       " 'Lafleur': 27,\n",
       " 'Mistral': 11}"
      ]
     },
     "execution_count": 109,
     "metadata": {},
     "output_type": "execute_result"
    }
   ],
   "source": [
    "maireTreeDict = number_of_tree_per_maire(maireDict, sortedTreeTupleList)"
   ]
  },
  {
   "cell_type": "code",
   "execution_count": 87,
   "id": "086bf982",
   "metadata": {},
   "outputs": [],
   "source": [
    "def get_max_maire_tree(dictMaire:dict) -> str:\n",
    "    return max(dictMaire, key=dictMaire.get)"
   ]
  },
  {
   "cell_type": "code",
   "execution_count": 88,
   "id": "f3479a66",
   "metadata": {},
   "outputs": [
    {
     "name": "stdout",
     "output_type": "stream",
     "text": [
      "The Maire who planted the more trees is --> Dubedout <-- with a number of --> 12074 <--\n"
     ]
    }
   ],
   "source": [
    "max_maire = get_max_maire_tree(maireTreeDict)\n",
    "print(f\"The Maire who planted the more trees is --> {max_maire} <-- with a number of --> {maireTreeDict[max_maire]} <--\")"
   ]
  },
  {
   "cell_type": "code",
   "execution_count": null,
   "id": "42196967",
   "metadata": {},
   "outputs": [],
   "source": [
    "def name_of_maire_per_tree(colYear:list, maires:dict) -> list:\n",
    "    \n",
    "    maireList = []\n",
    "    for year in colyear:\n",
    "        for maire in maires:\n",
    "            if maire[0] <= int(year) < maire[1]:\n",
    "                maireList.append(maire)\n",
    "    \n",
    "    \n",
    "    return maireList\n",
    "maireList = name_of_maire_per_tree"
   ]
  },
  {
   "cell_type": "code",
   "execution_count": null,
   "id": "8cbc51d6",
   "metadata": {},
   "outputs": [],
   "source": []
  },
  {
   "cell_type": "markdown",
   "id": "609b7f8e",
   "metadata": {},
   "source": [
    "## Etude botanique"
   ]
  },
  {
   "cell_type": "code",
   "execution_count": 89,
   "id": "05804f54",
   "metadata": {},
   "outputs": [],
   "source": [
    "colToStudy = \"GENRE_BOTA\"\n",
    "colBota = get_col_values(colToStudy, dataset)"
   ]
  },
  {
   "cell_type": "code",
   "execution_count": 90,
   "id": "2e29690e",
   "metadata": {},
   "outputs": [
    {
     "name": "stdout",
     "output_type": "stream",
     "text": [
      "there is --> 933 <-- empty values in GENRE_BOTA\n"
     ]
    }
   ],
   "source": [
    "print(\"there is --> \" + str(count_empty_value(colBota)) + \" <-- empty values in \" + colToStudy )"
   ]
  },
  {
   "cell_type": "code",
   "execution_count": 91,
   "id": "8be9f1d8",
   "metadata": {},
   "outputs": [],
   "source": [
    "colBota = get_col_values(colToStudy, dataset)\n",
    "#colList"
   ]
  },
  {
   "cell_type": "code",
   "execution_count": 92,
   "id": "429bd8aa",
   "metadata": {},
   "outputs": [
    {
     "name": "stdout",
     "output_type": "stream",
     "text": [
      "There was 933 trees of type : \n"
     ]
    }
   ],
   "source": [
    "valueToFind = \"\"\n",
    "print(f\"There was {count_specific_value_in_col(valueToFind, colBota)} trees of type : {valueToFind}\")"
   ]
  },
  {
   "cell_type": "code",
   "execution_count": 93,
   "id": "b656f8d5",
   "metadata": {},
   "outputs": [],
   "source": [
    "def concat_year_type(colListArbre:list, colListYear:list) -> list:\n",
    "    if not len(colListArbre) == len(colListYear):\n",
    "        raise ValueError(\"The two colone studied are not the same length\")\n",
    "    else:\n",
    "        listTemp = []\n",
    "        for year, treeType in zip(colListArbre, colListYear):\n",
    "            tupleTemp = (year, treeType)\n",
    "            listTemp.append(tupleTemp)\n",
    "        \n",
    "        return listTemp"
   ]
  },
  {
   "cell_type": "code",
   "execution_count": 94,
   "id": "e081c383",
   "metadata": {},
   "outputs": [
    {
     "data": {
      "text/plain": [
       "[('ANNEEDEPLANTATION', 'GENRE_BOTA'),\n",
       " ('2021', 'Thuja'),\n",
       " ('2021', 'Tilia'),\n",
       " ('2021', 'Thuja'),\n",
       " ('2020', 'Ulmus'),\n",
       " ('2020', 'Ulmus'),\n",
       " ('2020', 'Pyrus'),\n",
       " ('2020', 'Malus'),\n",
       " ('2020', 'Pyrus'),\n",
       " ('2020', 'Pyrus'),\n",
       " ('2020', 'Pyrus'),\n",
       " ('2020', 'Prunus'),\n",
       " ('2020', 'Prunus'),\n",
       " ('2020', 'Quercus'),\n",
       " ('2020', 'Quercus'),\n",
       " ('2020', 'Quercus'),\n",
       " ('2020', 'Quercus'),\n",
       " ('2020', 'Quercus'),\n",
       " ('2020', 'Parrotia'),\n",
       " ('2020', 'Syringa'),\n",
       " ('2020', 'Syringa'),\n",
       " ('2020', 'Prunus'),\n",
       " ('2020', 'Malus'),\n",
       " ('2020', 'Prunus'),\n",
       " ('2020', 'Quercus'),\n",
       " ('2020', 'Malus'),\n",
       " ('2020', 'Malus'),\n",
       " ('2020', 'Pyrus'),\n",
       " ('2020', 'Pyrus'),\n",
       " ('2020', 'Pyrus'),\n",
       " ('2020', 'Prunus'),\n",
       " ('2020', 'Malus'),\n",
       " ('2020', 'Quercus'),\n",
       " ('2020', 'Quercus'),\n",
       " ('2020', 'Sophora'),\n",
       " ('2020', 'Sophora'),\n",
       " ('2020', 'Sophora'),\n",
       " ('2020', 'Sophora'),\n",
       " ('2020', 'Ulmus'),\n",
       " ('2020', 'Ulmus'),\n",
       " ('2020', 'Ulmus'),\n",
       " ('2020', 'Prunus'),\n",
       " ('2020', 'Prunus'),\n",
       " ('2020', 'Quercus'),\n",
       " ('2020', 'Quercus'),\n",
       " ('2020', 'Quercus'),\n",
       " ('2020', 'Quercus'),\n",
       " ('2020', 'Quercus'),\n",
       " ('2020', 'Quercus'),\n",
       " ('2020', 'Prunus'),\n",
       " ('2020', 'Quercus'),\n",
       " ('2020', 'Ostrya'),\n",
       " ('2020', 'Ostrya'),\n",
       " ('2020', 'Ostrya'),\n",
       " ('2020', 'Liriodendron'),\n",
       " ('2020', 'Liriodendron'),\n",
       " ('2020', 'Liriodendron'),\n",
       " ('2020', 'Liriodendron'),\n",
       " ('2020', 'Liriodendron'),\n",
       " ('2020', 'Quercus'),\n",
       " ('2020', 'Quercus'),\n",
       " ('2020', 'Pterocarya'),\n",
       " ('2020', 'Maclura'),\n",
       " ('2020', 'Maclura'),\n",
       " ('2020', 'Pterocarya'),\n",
       " ('2020', 'Magnolia'),\n",
       " ('2020', 'Magnolia'),\n",
       " ('2020', 'Pyrus'),\n",
       " ('2020', 'Pyrus'),\n",
       " ('2020', 'Pyrus'),\n",
       " ('2020', 'Pyrus'),\n",
       " ('2020', 'Pyrus'),\n",
       " ('2020', 'Pyrus'),\n",
       " ('2020', 'Pyrus'),\n",
       " ('2020', 'Pyrus'),\n",
       " ('2020', 'Pyrus'),\n",
       " ('2020', 'Pyrus'),\n",
       " ('2020', 'Pyrus'),\n",
       " ('2020', 'Malus'),\n",
       " ('2020', 'Malus'),\n",
       " ('2020', 'Malus'),\n",
       " ('2020', 'Quercus'),\n",
       " ('2020', 'Quercus'),\n",
       " ('2020', 'Magnolia'),\n",
       " ('2020', 'Magnolia'),\n",
       " ('2020', 'Pyrus'),\n",
       " ('2020', 'Prunus'),\n",
       " ('2020', 'Prunus'),\n",
       " ('2020', 'Prunus'),\n",
       " ('2020', 'Prunus'),\n",
       " ('2020', 'Quercus'),\n",
       " ('2020', 'Quercus'),\n",
       " ('2020', 'Ostrya'),\n",
       " ('2020', 'Pterocarya'),\n",
       " ('2020', 'Magnolia'),\n",
       " ('2020', 'Magnolia'),\n",
       " ('2020', 'Magnolia'),\n",
       " ('2020', 'Pinus'),\n",
       " ('2020', 'Pinus'),\n",
       " ('2020', 'Pinus'),\n",
       " ('2020', 'Pterocarya'),\n",
       " ('2020', 'Pterocarya'),\n",
       " ('2020', 'Tilia'),\n",
       " ('2020', 'Pyrus'),\n",
       " ('2020', 'Malus'),\n",
       " ('2020', 'Parrotia'),\n",
       " ('2019', 'Prunus'),\n",
       " ('2019', 'Liquidambar'),\n",
       " ('2019', 'Quercus'),\n",
       " ('2019', 'Quercus'),\n",
       " ('2019', 'Magnolia'),\n",
       " ('2019', 'Magnolia'),\n",
       " ('2019', 'Magnolia'),\n",
       " ('2019', 'Magnolia'),\n",
       " ('2019', 'Magnolia'),\n",
       " ('2019', 'Magnolia'),\n",
       " ('2019', 'Magnolia'),\n",
       " ('2019', 'Magnolia'),\n",
       " ('2019', 'Magnolia'),\n",
       " ('2019', 'Magnolia'),\n",
       " ('2019', 'Magnolia'),\n",
       " ('2019', 'Magnolia'),\n",
       " ('2019', 'Magnolia'),\n",
       " ('2019', 'Magnolia'),\n",
       " ('2019', 'Magnolia'),\n",
       " ('2019', 'Magnolia'),\n",
       " ('2019', 'Magnolia'),\n",
       " ('2019', 'Magnolia'),\n",
       " ('2019', 'Magnolia'),\n",
       " ('2019', 'Magnolia'),\n",
       " ('2019', 'Magnolia'),\n",
       " ('2019', 'Magnolia'),\n",
       " ('2019', 'Magnolia'),\n",
       " ('2019', 'Magnolia'),\n",
       " ('2019', 'Magnolia'),\n",
       " ('2019', 'Magnolia'),\n",
       " ('2019', 'Magnolia'),\n",
       " ('2019', 'Magnolia'),\n",
       " ('2019', 'Magnolia'),\n",
       " ('2019', 'Magnolia'),\n",
       " ('2019', 'Magnolia'),\n",
       " ('2019', 'Magnolia'),\n",
       " ('2019', 'Magnolia'),\n",
       " ('2019', 'Magnolia'),\n",
       " ('2019', 'Magnolia'),\n",
       " ('2019', 'Magnolia'),\n",
       " ('2019', 'Magnolia'),\n",
       " ('2019', 'Magnolia'),\n",
       " ('2019', 'Magnolia'),\n",
       " ('2019', 'Magnolia'),\n",
       " ('2019', 'Magnolia'),\n",
       " ('2019', 'Magnolia'),\n",
       " ('2019', 'Magnolia'),\n",
       " ('2019', 'Malus'),\n",
       " ('2019', 'Malus'),\n",
       " ('2019', 'Prunus'),\n",
       " ('2019', 'Tilia'),\n",
       " ('2019', 'Pinus'),\n",
       " ('2019', 'Pinus'),\n",
       " ('2019', 'Alnus'),\n",
       " ('2019', 'Koelreuteria'),\n",
       " ('2019', 'Euodia'),\n",
       " ('2019', 'Prunus'),\n",
       " ('2019', 'Prunus'),\n",
       " ('2019', 'Acer'),\n",
       " ('2019', 'Pyrus'),\n",
       " ('2019', 'Quercus'),\n",
       " ('2019', 'Quercus'),\n",
       " ('2019', 'Quercus'),\n",
       " ('2019', 'Pyrus'),\n",
       " ('2019', 'Pyrus'),\n",
       " ('2019', 'Pyrus'),\n",
       " ('2019', 'Malus'),\n",
       " ('2019', 'Malus'),\n",
       " ('2019', 'Malus'),\n",
       " ('2019', 'Malus'),\n",
       " ('2019', 'Malus'),\n",
       " ('2019', 'Malus'),\n",
       " ('2019', 'Pyrus'),\n",
       " ('2019', 'Prunus'),\n",
       " ('2019', 'Prunus'),\n",
       " ('2019', 'Pyrus'),\n",
       " ('2019', 'Pyrus'),\n",
       " ('2019', 'Prunus'),\n",
       " ('2019', 'Ostrya'),\n",
       " ('2019', 'Zelkova'),\n",
       " ('2019', 'Ostrya'),\n",
       " ('2019', 'Zelkova'),\n",
       " ('2019', 'Ostrya'),\n",
       " ('2019', 'Zelkova'),\n",
       " ('2019', 'Ostrya'),\n",
       " ('2019', 'Magnolia'),\n",
       " ('2019', 'Phellodendron'),\n",
       " ('2019', 'Magnolia'),\n",
       " ('2018', 'Sophora'),\n",
       " ('2018', 'Sophora'),\n",
       " ('2018', 'Sophora'),\n",
       " ('2018', 'Sophora'),\n",
       " ('2018', 'Magnolia'),\n",
       " ('2018', 'Magnolia'),\n",
       " ('2018', 'Magnolia'),\n",
       " ('2018', 'Magnolia'),\n",
       " ('2018', 'Magnolia'),\n",
       " ('2018', 'Magnolia'),\n",
       " ('2018', 'Magnolia'),\n",
       " ('2018', 'Magnolia'),\n",
       " ('2018', 'Magnolia'),\n",
       " ('2018', 'Magnolia'),\n",
       " ('2018', 'Magnolia'),\n",
       " ('2018', 'Magnolia'),\n",
       " ('2018', 'Magnolia'),\n",
       " ('2018', 'Pyrus'),\n",
       " ('2018', 'Pyrus'),\n",
       " ('2018', 'Pyrus'),\n",
       " ('2018', 'Quercus'),\n",
       " ('2018', 'Acer'),\n",
       " ('2018', 'Acer'),\n",
       " ('2018', 'Quercus'),\n",
       " ('2018', 'Quercus'),\n",
       " ('2018', 'Quercus'),\n",
       " ('2018', 'Prunus'),\n",
       " ('2018', 'Prunus'),\n",
       " ('2018', 'Zelkova'),\n",
       " ('2018', 'Zelkova'),\n",
       " ('2018', 'Zelkova'),\n",
       " ('2018', 'Acer'),\n",
       " ('2018', 'Malus'),\n",
       " ('2018', 'Malus'),\n",
       " ('2018', 'Malus'),\n",
       " ('2018', 'Malus'),\n",
       " ('2018', 'Prunus'),\n",
       " ('2018', 'Prunus'),\n",
       " ('2018', 'Prunus'),\n",
       " ('2018', 'Prunus'),\n",
       " ('2018', 'Prunus'),\n",
       " ('2018', 'Malus'),\n",
       " ('2018', 'Ulmus'),\n",
       " ('2018', 'Pterocarya'),\n",
       " ('2018', 'Alnus'),\n",
       " ('2018', 'Ulmus'),\n",
       " ('2018', 'Quercus'),\n",
       " ('2018', 'Quercus'),\n",
       " ('2018', 'Pterocarya'),\n",
       " ('2018', 'Acer'),\n",
       " ('2018', 'Acer'),\n",
       " ('2018', 'Ulmus'),\n",
       " ('2018', 'Ulmus'),\n",
       " ('2018', 'Alnus'),\n",
       " ('2018', 'Celtis'),\n",
       " ('2018', 'Acacia'),\n",
       " ('2018', ''),\n",
       " ('2018', ''),\n",
       " ('2018', 'Cercis'),\n",
       " ('2018', 'Amélanchier'),\n",
       " ('2018', 'Quercus'),\n",
       " ('2018', 'Amélanchier'),\n",
       " ('2018', 'Amélanchier'),\n",
       " ('2018', 'Cercis'),\n",
       " ('2018', 'Acer'),\n",
       " ('2018', 'Quercus'),\n",
       " ('2018', 'Celtis'),\n",
       " ('2018', 'Quercus'),\n",
       " ('2018', 'Quercus'),\n",
       " ('2018', 'Celtis'),\n",
       " ('2018', 'Celtis'),\n",
       " ('2018', 'Quercus'),\n",
       " ('2018', 'Gleditsia'),\n",
       " ('2018', 'Fraxinus'),\n",
       " ('2018', 'Quercus'),\n",
       " ('2018', 'Quercus'),\n",
       " ('2018', 'Quercus'),\n",
       " ('2018', 'Prunus'),\n",
       " ('2018', 'Prunus'),\n",
       " ('2018', 'Prunus'),\n",
       " ('2018', 'Prunus'),\n",
       " ('2018', 'Prunus'),\n",
       " ('2018', 'Crataegus'),\n",
       " ('2018', 'Celtis'),\n",
       " ('2018', 'Celtis'),\n",
       " ('2018', 'Celtis'),\n",
       " ('2018', 'Celtis'),\n",
       " ('2018', 'Celtis'),\n",
       " ('2018', 'Celtis'),\n",
       " ('2018', 'Quercus'),\n",
       " ('2018', 'Zelkova'),\n",
       " ('2018', 'Zelkova'),\n",
       " ('2018', 'Zelkova'),\n",
       " ('2018', 'Zelkova'),\n",
       " ('2018', 'Zelkova'),\n",
       " ('2018', 'Zelkova'),\n",
       " ('2018', 'Zelkova'),\n",
       " ('2018', 'Zelkova'),\n",
       " ('2018', 'Zelkova'),\n",
       " ('2018', 'Pyrus'),\n",
       " ('2018', 'Pyrus'),\n",
       " ('2018', 'Pyrus'),\n",
       " ('2018', 'Pyrus'),\n",
       " ('2018', 'Acer'),\n",
       " ('2018', 'Metasequoia'),\n",
       " ('2018', 'Metasequoia'),\n",
       " ('2018', 'Ulmus'),\n",
       " ('2018', 'Quercus'),\n",
       " ('2018', 'Quercus'),\n",
       " ('2018', 'Quercus'),\n",
       " ('2018', 'Gleditsia'),\n",
       " ('2018', 'Maclura'),\n",
       " ('2018', 'Fagus'),\n",
       " ('2018', 'Taxodium'),\n",
       " ('2018', 'Quercus'),\n",
       " ('2018', 'Acer'),\n",
       " ('2018', 'Celtis'),\n",
       " ('2018', 'Celtis'),\n",
       " ('2018', 'Celtis'),\n",
       " ('2018', 'Celtis'),\n",
       " ('2018', 'Celtis'),\n",
       " ('2018', 'Alnus'),\n",
       " ('2018', 'Alnus'),\n",
       " ('2018', 'Alnus'),\n",
       " ('2018', 'Alnus'),\n",
       " ('2018', 'Malus'),\n",
       " ('2018', 'Prunus'),\n",
       " ('2018', 'Prunus'),\n",
       " ('2018', 'Prunus'),\n",
       " ('2018', 'Prunus'),\n",
       " ('2018', 'Prunus'),\n",
       " ('2018', 'Magnolia'),\n",
       " ('2018', 'Gleditsia'),\n",
       " ('2018', 'Gleditsia'),\n",
       " ('2018', 'Malus'),\n",
       " ('2018', 'Quercus'),\n",
       " ('2018', 'Acer'),\n",
       " ('2018', 'Acer'),\n",
       " ('2018', 'Gleditsia'),\n",
       " ('2018', 'Alnus'),\n",
       " ('2018', 'Fraxinus'),\n",
       " ('2018', 'Fraxinus'),\n",
       " ('2018', 'Fraxinus'),\n",
       " ('2018', 'Lagerstroemia'),\n",
       " ('2018', 'Lagerstroemia'),\n",
       " ('2018', 'Ulmus'),\n",
       " ('2018', 'Ulmus'),\n",
       " ('2018', 'Ulmus'),\n",
       " ('2018', 'Lagerstroemia'),\n",
       " ('2018', 'Quercus'),\n",
       " ('2018', 'Phellodendron'),\n",
       " ('2018', 'Pyrus'),\n",
       " ('2018', 'Pyrus'),\n",
       " ('2018', 'Liquidambar'),\n",
       " ('2018', 'Liquidambar'),\n",
       " ('2018', 'Pteroceltis'),\n",
       " ('2018', 'Morus'),\n",
       " ('2018', 'Malus'),\n",
       " ('2018', 'Tilia'),\n",
       " ('2018', 'Alnus'),\n",
       " ('2018', 'Crataegus'),\n",
       " ('2018', 'Crataegus'),\n",
       " ('2018', 'Crataegus'),\n",
       " ('2018', 'Crataegus'),\n",
       " ('2018', 'Acer'),\n",
       " ('2018', 'Alnus'),\n",
       " ('2018', 'Acer'),\n",
       " ('2018', 'Prunus'),\n",
       " ('2018', 'Quercus'),\n",
       " ('2018', 'Ginkgo'),\n",
       " ('2018', 'Platanus'),\n",
       " ('2018', 'Acer'),\n",
       " ('2018', 'Acer'),\n",
       " ('2018', 'Quercus'),\n",
       " ('2018', 'Zelkova'),\n",
       " ('2018', 'Zelkova'),\n",
       " ('2018', 'Prunus'),\n",
       " ('2018', 'Prunus'),\n",
       " ('2018', 'Pyrus'),\n",
       " ('2018', 'Malus'),\n",
       " ('2018', 'Prunus'),\n",
       " ('2018', 'Prunus'),\n",
       " ('2018', 'Corylus'),\n",
       " ('2018', 'Prunus'),\n",
       " ('2018', 'Prunus'),\n",
       " ('2018', 'Prunus'),\n",
       " ('2018', 'Prunus'),\n",
       " ('2018', 'Prunus'),\n",
       " ('2018', 'Cydonia'),\n",
       " ('2018', 'Diospyros'),\n",
       " ('2018', 'Prunus'),\n",
       " ('2018', 'Prunus'),\n",
       " ('2018', 'Prunus'),\n",
       " ('2018', 'Pyrus'),\n",
       " ('2018', 'Punica'),\n",
       " ('2018', 'Mespilus'),\n",
       " ('2018', 'Ficus'),\n",
       " ('2018', 'Amélanchier'),\n",
       " ('2018', 'Amélanchier'),\n",
       " ('2018', 'Ficus'),\n",
       " ('2018', 'Corylus'),\n",
       " ('2018', 'Malus'),\n",
       " ('2018', 'Gleditsia'),\n",
       " ('2018', 'Zelkova'),\n",
       " ('2018', 'Gleditsia'),\n",
       " ('2018', 'Gleditsia'),\n",
       " ('2018', 'Gleditsia'),\n",
       " ('2018', 'Koelreuteria'),\n",
       " ('2018', 'Koelreuteria'),\n",
       " ('2018', 'Koelreuteria'),\n",
       " ('2018', 'Davidia'),\n",
       " ('2018', 'Pistacia'),\n",
       " ('2018', 'Ficus'),\n",
       " ('2018', 'Diospyros'),\n",
       " ('2018', 'Alnus'),\n",
       " ('2018', 'Lagerstroemia'),\n",
       " ('2018', 'Malus'),\n",
       " ('2018', 'Quercus'),\n",
       " ('2018', 'Metasequoia'),\n",
       " ('2018', 'Liquidambar'),\n",
       " ('2018', 'Liquidambar'),\n",
       " ('2018', 'Prunus'),\n",
       " ('2018', 'Pistacia'),\n",
       " ('2018', 'Quercus'),\n",
       " ('2018', 'Morus'),\n",
       " ('2018', 'Pterocarya'),\n",
       " ('2018', 'Carya'),\n",
       " ('2018', 'Carya'),\n",
       " ('2018', 'Carya'),\n",
       " ('2018', 'Salix'),\n",
       " ('2018', 'Prunus'),\n",
       " ('2018', 'Cedrela'),\n",
       " ('2018', 'Halesia'),\n",
       " ('2018', 'Halesia'),\n",
       " ('2018', 'Betula'),\n",
       " ('2018', 'Betula'),\n",
       " ('2018', 'Betula'),\n",
       " ('2018', 'Acer'),\n",
       " ('2018', 'Acer'),\n",
       " ('2018', 'Acer'),\n",
       " ('2018', 'Acer'),\n",
       " ('2018', 'Sorbus'),\n",
       " ('2018', 'Sorbus'),\n",
       " ('2018', 'Quercus'),\n",
       " ('2018', 'Quercus'),\n",
       " ('2018', 'Quercus'),\n",
       " ('2018', 'Prunus'),\n",
       " ('2018', 'Prunus'),\n",
       " ('2018', 'Zelkova'),\n",
       " ('2018', 'Zelkova'),\n",
       " ('2018', 'Zelkova'),\n",
       " ('2018', 'Magnolia'),\n",
       " ('2018', 'Magnolia'),\n",
       " ('2018', 'Magnolia'),\n",
       " ('2018', 'Magnolia'),\n",
       " ('2018', 'Magnolia'),\n",
       " ('2018', 'Prunus'),\n",
       " ('2018', 'Prunus'),\n",
       " ('2018', 'Prunus'),\n",
       " ('2018', 'Prunus'),\n",
       " ('2018', 'Prunus'),\n",
       " ('2018', 'Acer'),\n",
       " ('2018', 'Acer'),\n",
       " ('2018', 'Acer'),\n",
       " ('2018', 'Prunus'),\n",
       " ('2018', 'Prunus'),\n",
       " ('2018', 'Prunus'),\n",
       " ('2018', 'Prunus'),\n",
       " ('2018', 'Prunus'),\n",
       " ('2018', 'Malus'),\n",
       " ('2018', 'Prunus'),\n",
       " ('2018', 'Prunus'),\n",
       " ('2018', 'Prunus'),\n",
       " ('2018', 'Magnolia'),\n",
       " ('2018', 'Gleditsia'),\n",
       " ('2018', 'Zelkova'),\n",
       " ('2018', 'Acer'),\n",
       " ('2018', 'Magnolia'),\n",
       " ('2018', 'Cercis'),\n",
       " ('2018', 'Chionanthus'),\n",
       " ('2018', 'Pyrus'),\n",
       " ('2018', 'Alnus'),\n",
       " ('2018', 'Quercus'),\n",
       " ('2018', 'Quercus'),\n",
       " ('2018', 'Quercus'),\n",
       " ('2018', 'Quercus'),\n",
       " ('2018', 'Ligustrum'),\n",
       " ('2018', 'Sambucus'),\n",
       " ('2018', 'Prunus'),\n",
       " ('2018', 'Quercus'),\n",
       " ('2018', 'Carpinus'),\n",
       " ('2018', 'Ilex'),\n",
       " ('2018', 'Crataegus'),\n",
       " ('2018', 'Corylus'),\n",
       " ('2018', 'Cedrus'),\n",
       " ('2018', 'Sorbus'),\n",
       " ('2018', 'Acer'),\n",
       " ('2018', 'Acer'),\n",
       " ('2018', 'Tilia'),\n",
       " ('2018', 'Tilia'),\n",
       " ('2018', 'Quercus'),\n",
       " ('2018', 'Liriodendron'),\n",
       " ('2018', 'Prunus'),\n",
       " ('2018', 'Magnolia'),\n",
       " ('2018', 'Cercis'),\n",
       " ('2018', 'Acer'),\n",
       " ('2018', 'Celtis'),\n",
       " ('2018', 'Celtis'),\n",
       " ('2018', 'Celtis'),\n",
       " ('2018', 'Celtis'),\n",
       " ('2018', 'Celtis'),\n",
       " ('2018', 'Celtis'),\n",
       " ('2018', 'Celtis'),\n",
       " ('2018', 'Celtis'),\n",
       " ('2018', 'Idesia'),\n",
       " ('2018', 'Idesia'),\n",
       " ('2018', 'Idesia'),\n",
       " ('2018', 'Idesia'),\n",
       " ('2018', 'Idesia'),\n",
       " ('2018', 'Tilia'),\n",
       " ('2018', 'Tilia'),\n",
       " ('2018', 'Acer'),\n",
       " ('2018', 'Acer'),\n",
       " ('2018', 'Prunus'),\n",
       " ('2018', 'Malus'),\n",
       " ('2018', 'Prunus'),\n",
       " ('2018', 'Prunus'),\n",
       " ('2018', 'Pyrus'),\n",
       " ('2018', 'Prunus'),\n",
       " ('2018', 'Pyrus'),\n",
       " ('2018', 'Malus'),\n",
       " ('2018', 'Pinus'),\n",
       " ('2018', 'Cedrus'),\n",
       " ('2018', 'Pinus'),\n",
       " ('2018', 'Hibiscus'),\n",
       " ('2018', 'Prunus'),\n",
       " ('2018', 'Hibiscus'),\n",
       " ('2018', 'Hibiscus'),\n",
       " ('2018', 'Prunus'),\n",
       " ('2018', 'Prunus'),\n",
       " ('2018', 'Prunus'),\n",
       " ('2018', 'Malus'),\n",
       " ('2018', 'Pyrus'),\n",
       " ('2018', 'Pyrus'),\n",
       " ('2018', 'Malus'),\n",
       " ('2018', 'Malus'),\n",
       " ('2018', 'Prunus'),\n",
       " ('2018', 'Malus'),\n",
       " ('2018', 'Malus'),\n",
       " ('2018', 'Prunus'),\n",
       " ('2018', 'Prunus'),\n",
       " ('2018', 'Prunus'),\n",
       " ('2018', 'Prunus'),\n",
       " ('2018', 'Prunus'),\n",
       " ('2018', 'Fagus'),\n",
       " ('2018', 'Fraxinus'),\n",
       " ('2018', 'Malus'),\n",
       " ('2018', 'Liriodendron'),\n",
       " ('2018', 'Liquidambar'),\n",
       " ('2018', 'Tilia'),\n",
       " ('2018', 'Tilia'),\n",
       " ('2018', 'Prunus'),\n",
       " ('2018', 'Prunus'),\n",
       " ('2018', 'Prunus'),\n",
       " ('2018', 'Malus'),\n",
       " ('2018', 'Malus'),\n",
       " ('2018', 'Ficus'),\n",
       " ('2018', 'Cladastris'),\n",
       " ('2018', 'Euodia'),\n",
       " ('2018', 'Cladastris'),\n",
       " ('2018', 'Acer'),\n",
       " ('2018', 'Magnolia'),\n",
       " ('2018', 'Magnolia'),\n",
       " ('2018', 'Malus'),\n",
       " ('2018', 'Malus'),\n",
       " ('2018', 'Malus'),\n",
       " ('2018', 'Acer'),\n",
       " ('2018', 'Fagus'),\n",
       " ('2018', 'Malus'),\n",
       " ('2018', 'Malus'),\n",
       " ('2018', 'Malus'),\n",
       " ('2018', 'Prunus'),\n",
       " ('2018', 'Prunus'),\n",
       " ('2018', 'Prunus'),\n",
       " ('2018', 'Pyrus'),\n",
       " ('2018', 'Pyrus'),\n",
       " ('2018', 'Prunus'),\n",
       " ('2018', 'Chionanthus'),\n",
       " ('2018', 'Chionanthus'),\n",
       " ('2018', 'Chionanthus'),\n",
       " ('2018', 'Pyrus'),\n",
       " ('2018', 'Pyrus'),\n",
       " ('2018', 'Pyrus'),\n",
       " ('2018', 'Pyrus'),\n",
       " ('2018', 'Pyrus'),\n",
       " ('2018', 'Gleditsia'),\n",
       " ('2018', 'Alnus'),\n",
       " ('2018', 'Tilia'),\n",
       " ('2018', 'Acer'),\n",
       " ('2018', 'Acer'),\n",
       " ('2018', 'Quercus'),\n",
       " ('2018', 'Acer'),\n",
       " ('2018', 'Acer'),\n",
       " ('2018', 'Acer'),\n",
       " ('2018', 'Celtis'),\n",
       " ('2018', 'Acer'),\n",
       " ('2018', 'Acer'),\n",
       " ('2018', 'Acer'),\n",
       " ('2018', 'Fagus'),\n",
       " ('2018', 'Pyrus'),\n",
       " ('2018', 'Pyrus'),\n",
       " ('2018', 'Quercus'),\n",
       " ('2018', 'Sophora'),\n",
       " ('2018', 'Sophora'),\n",
       " ('2018', 'Prunus'),\n",
       " ('2018', 'Davidia'),\n",
       " ('2018', 'Fraxinus'),\n",
       " ('2018', 'Fraxinus'),\n",
       " ('2018', 'Fraxinus'),\n",
       " ('2018', 'Fraxinus'),\n",
       " ('2018', 'Fraxinus'),\n",
       " ('2018', 'Fraxinus'),\n",
       " ('2018', 'Ginkgo'),\n",
       " ('2018', 'Diospyros'),\n",
       " ('2018', 'Cydonia'),\n",
       " ('2018', 'Cydonia'),\n",
       " ('2018', 'Prunus'),\n",
       " ('2018', 'Prunus'),\n",
       " ('2018', 'Sambucus'),\n",
       " ('2018', 'Salix'),\n",
       " ('2018', 'Pyrus'),\n",
       " ('2018', 'Malus'),\n",
       " ('2018', 'Sambucus'),\n",
       " ('2018', 'Malus'),\n",
       " ('2018', 'Pyrus'),\n",
       " ('2018', 'Juglans'),\n",
       " ('2018', 'Liquidambar'),\n",
       " ('2018', 'Chionanthus'),\n",
       " ('2018', 'Broussonetia'),\n",
       " ('2018', 'Broussonetia'),\n",
       " ('2018', 'Broussonetia'),\n",
       " ('2018', 'Acer'),\n",
       " ('2018', 'Fagus'),\n",
       " ('2018', 'Quercus'),\n",
       " ('2018', 'Fagus'),\n",
       " ('2018', 'Fagus'),\n",
       " ('2018', 'Acer'),\n",
       " ('2018', 'Acer'),\n",
       " ('2018', 'Acer'),\n",
       " ('2018', 'Acer'),\n",
       " ('2018', 'Acer'),\n",
       " ('2018', 'Acer'),\n",
       " ('2018', 'Acer'),\n",
       " ('2018', 'Davidia'),\n",
       " ('2018', 'Parrotia'),\n",
       " ('2018', 'Quercus'),\n",
       " ('2018', 'Quercus'),\n",
       " ('2018', 'Quercus'),\n",
       " ('2018', 'Quercus'),\n",
       " ('2018', 'Prunus'),\n",
       " ('2018', 'Magnolia'),\n",
       " ('2018', 'Cladastris'),\n",
       " ('2018', 'Prunus'),\n",
       " ('2018', 'Prunus'),\n",
       " ('2018', 'Prunus'),\n",
       " ('2018', 'Prunus'),\n",
       " ('2018', 'Prunus'),\n",
       " ('2018', 'Malus'),\n",
       " ('2018', 'Prunus'),\n",
       " ('2018', 'Prunus'),\n",
       " ('2018', 'Fraxinus'),\n",
       " ('2018', 'Fagus'),\n",
       " ('2018', 'Fraxinus'),\n",
       " ('2018', 'Pterocarya'),\n",
       " ('2018', 'Liquidambar'),\n",
       " ('2018', 'Acer'),\n",
       " ('2018', 'Liquidambar'),\n",
       " ('2018', 'Acer'),\n",
       " ('2018', 'Acer'),\n",
       " ('2018', 'Cydonia'),\n",
       " ('2018', 'Pyrus'),\n",
       " ('2018', 'Malus'),\n",
       " ('2018', 'Malus'),\n",
       " ('2018', 'Diospyros'),\n",
       " ('2018', 'Prunus'),\n",
       " ('2018', 'Pyrus'),\n",
       " ('2018', 'Malus'),\n",
       " ('2018', 'Prunus'),\n",
       " ('2018', 'Quercus'),\n",
       " ('2018', 'Quercus'),\n",
       " ('2018', 'Quercus'),\n",
       " ('2018', 'Quercus'),\n",
       " ('2018', 'Quercus'),\n",
       " ('2018', 'Ilex'),\n",
       " ('2018', 'Zelkova'),\n",
       " ('2018', 'Pyrus'),\n",
       " ('2018', 'Zelkova'),\n",
       " ('2018', 'Zelkova'),\n",
       " ('2018', 'Pterocarya'),\n",
       " ('2018', 'Chionanthus'),\n",
       " ('2018', 'Calocedrus'),\n",
       " ('2018', 'Calocedrus'),\n",
       " ('2018', 'Calocedrus'),\n",
       " ('2018', 'Pyrus'),\n",
       " ('2018', 'Quercus'),\n",
       " ('2018', 'Quercus'),\n",
       " ('2018', 'Fagus'),\n",
       " ('2018', 'Fagus'),\n",
       " ('2018', 'Lagerstroemia'),\n",
       " ('2018', 'Trachycarpus'),\n",
       " ('2018', 'Morus'),\n",
       " ('2018', 'Tilia'),\n",
       " ('2018', 'Fraxinus'),\n",
       " ('2018', 'Fraxinus'),\n",
       " ('2018', 'Fraxinus'),\n",
       " ('2018', 'Fraxinus'),\n",
       " ('2018', 'Gymnocladus'),\n",
       " ('2018', 'Cedrela'),\n",
       " ('2018', 'Pinus'),\n",
       " ('2018', 'Pinus'),\n",
       " ('2018', 'Pyrus'),\n",
       " ('2018', 'Carpinus'),\n",
       " ('2018', 'Carpinus'),\n",
       " ('2018', 'Carpinus'),\n",
       " ('2018', 'Carpinus'),\n",
       " ('2018', 'Carpinus'),\n",
       " ('2018', 'Carpinus'),\n",
       " ('2018', 'Carpinus'),\n",
       " ('2018', 'Carpinus'),\n",
       " ('2018', 'Carpinus'),\n",
       " ('2018', 'Carpinus'),\n",
       " ('2018', 'Carpinus'),\n",
       " ('2018', 'Carpinus'),\n",
       " ('2018', 'Carpinus'),\n",
       " ('2018', 'Carpinus'),\n",
       " ('2018', 'Carpinus'),\n",
       " ('2018', 'Carpinus'),\n",
       " ('2018', 'Carpinus'),\n",
       " ('2018', 'Carpinus'),\n",
       " ('2018', 'Carpinus'),\n",
       " ('2018', 'Carpinus'),\n",
       " ('2018', 'Carpinus'),\n",
       " ('2018', 'Carpinus'),\n",
       " ('2018', 'Carpinus'),\n",
       " ('2018', 'Carpinus'),\n",
       " ('2018', 'Carpinus'),\n",
       " ('2018', 'Carpinus'),\n",
       " ('2018', 'Carpinus'),\n",
       " ('2018', 'Carpinus'),\n",
       " ('2018', 'Carpinus'),\n",
       " ('2018', 'Carpinus'),\n",
       " ('2018', 'Carpinus'),\n",
       " ('2018', 'Carpinus'),\n",
       " ('2018', 'Carpinus'),\n",
       " ('2018', 'Carpinus'),\n",
       " ('2018', 'Carpinus'),\n",
       " ('2018', 'Carpinus'),\n",
       " ('2018', 'Carpinus'),\n",
       " ('2018', 'Carpinus'),\n",
       " ('2018', 'Carpinus'),\n",
       " ('2018', 'Carpinus'),\n",
       " ('2018', 'Carpinus'),\n",
       " ('2018', 'Acer'),\n",
       " ('2018', 'Taxus'),\n",
       " ('2018', 'Carpinus'),\n",
       " ('2018', 'Pyrus'),\n",
       " ('2018', 'Prunus'),\n",
       " ('2018', 'Prunus'),\n",
       " ('2018', 'Malus'),\n",
       " ('2018', 'Pyrus'),\n",
       " ('2018', 'Prunus'),\n",
       " ('2018', 'Prunus'),\n",
       " ('2018', 'Prunus'),\n",
       " ('2018', 'Quercus'),\n",
       " ('2018', 'Taxus'),\n",
       " ('2018', 'Carpinus'),\n",
       " ('2018', 'Taxus'),\n",
       " ('2018', 'Acer'),\n",
       " ('2018', 'Acer'),\n",
       " ('2018', 'Carpinus'),\n",
       " ('2018', 'Quercus'),\n",
       " ('2018', 'Taxus'),\n",
       " ('2018', 'Acer'),\n",
       " ('2018', 'Quercus'),\n",
       " ('2018', 'Quercus'),\n",
       " ('2018', 'Carpinus'),\n",
       " ('2018', 'Taxus'),\n",
       " ('2018', 'Acer'),\n",
       " ('2018', 'Amélanchier'),\n",
       " ('2018', 'Gleditsia'),\n",
       " ('2018', 'Ptelea'),\n",
       " ('2018', 'Mespilus'),\n",
       " ('2018', 'Malus'),\n",
       " ('2018', 'Prunus'),\n",
       " ('2018', 'Prunus'),\n",
       " ('2018', 'Prunus'),\n",
       " ('2018', 'Gleditsia'),\n",
       " ('2018', 'Pyrus'),\n",
       " ('2018', 'Prunus'),\n",
       " ('2018', 'Prunus'),\n",
       " ('2018', 'Quercus'),\n",
       " ('2018', 'Liquidambar'),\n",
       " ('2018', 'Liquidambar'),\n",
       " ('2018', 'Quercus'),\n",
       " ('2018', 'Quercus'),\n",
       " ('2018', 'Quercus'),\n",
       " ('2018', 'Pyrus'),\n",
       " ('2018', 'Acer'),\n",
       " ('2018', 'Fraxinus'),\n",
       " ('2018', 'Fraxinus'),\n",
       " ('2018', 'Fraxinus'),\n",
       " ('2018', 'Maclura'),\n",
       " ('2018', 'Fraxinus'),\n",
       " ('2018', 'Cedrus'),\n",
       " ('2018', 'Sorbus'),\n",
       " ('2018', 'Sorbus'),\n",
       " ('2018', 'Sorbus'),\n",
       " ('2018', 'Fraxinus'),\n",
       " ('2018', 'Fraxinus'),\n",
       " ('2018', 'Celtis'),\n",
       " ('2018', 'Fraxinus'),\n",
       " ('2018', 'Maclura'),\n",
       " ('2018', 'Pyrus'),\n",
       " ('2018', 'Pyrus'),\n",
       " ('2018', 'Pyrus'),\n",
       " ('2018', 'Fraxinus'),\n",
       " ('2018', 'Fraxinus'),\n",
       " ('2018', 'Fraxinus'),\n",
       " ('2018', 'Taxodium'),\n",
       " ('2018', 'Fraxinus'),\n",
       " ('2018', 'Fraxinus'),\n",
       " ('2018', 'Quercus'),\n",
       " ('2018', 'Quercus'),\n",
       " ('2018', 'Quercus'),\n",
       " ('2018', 'Quercus'),\n",
       " ('2018', 'Alnus'),\n",
       " ('2018', 'Alnus'),\n",
       " ('2018', 'Alnus'),\n",
       " ('2018', 'Zelkova'),\n",
       " ('2018', 'Zelkova'),\n",
       " ('2018', 'Ficus'),\n",
       " ('2018', 'Prunus'),\n",
       " ('2018', 'Prunus'),\n",
       " ('2018', 'Prunus'),\n",
       " ('2018', 'Liquidambar'),\n",
       " ('2018', 'Acer'),\n",
       " ('2018', 'Acer'),\n",
       " ('2018', 'Paulownia'),\n",
       " ('2018', 'Paulownia'),\n",
       " ('2018', 'Paulownia'),\n",
       " ('2018', 'Alnus'),\n",
       " ('2018', 'Tilia'),\n",
       " ('2018', 'Catalpa'),\n",
       " ('2018', 'Catalpa'),\n",
       " ('2018', 'Prunus'),\n",
       " ('2018', 'Prunus'),\n",
       " ('2018', 'Prunus'),\n",
       " ('2018', 'Lagerstroemia'),\n",
       " ('2018', 'Gleditsia'),\n",
       " ('2018', 'Acer'),\n",
       " ('2018', 'Gleditsia'),\n",
       " ('2018', 'Malus'),\n",
       " ('2018', 'Acer'),\n",
       " ('2018', 'Acer'),\n",
       " ('2018', 'Acer'),\n",
       " ('2018', 'Sophora'),\n",
       " ('2018', 'Acer'),\n",
       " ('2018', 'Acer'),\n",
       " ('2018', 'Olea'),\n",
       " ('2018', 'Prunus'),\n",
       " ('2018', 'Prunus'),\n",
       " ('2018', 'Prunus'),\n",
       " ('2018', 'Diospyros'),\n",
       " ('2018', 'Prunus'),\n",
       " ('2018', 'Prunus'),\n",
       " ('2018', 'Prunus'),\n",
       " ('2018', 'Prunus'),\n",
       " ('2018', 'Prunus'),\n",
       " ('2018', ''),\n",
       " ('2018', 'Fagus'),\n",
       " ('2018', 'Prunus'),\n",
       " ('2018', 'Prunus'),\n",
       " ('2018', 'Platanus'),\n",
       " ('2018', 'Platanus'),\n",
       " ('2018', 'Platanus'),\n",
       " ('2018', 'Platanus'),\n",
       " ('2018', 'Platanus'),\n",
       " ('2018', 'Platanus'),\n",
       " ('2018', 'Platanus'),\n",
       " ('2018', 'Platanus'),\n",
       " ('2018', 'Platanus'),\n",
       " ('2018', 'Platanus'),\n",
       " ('2018', 'Platanus'),\n",
       " ('2018', 'Pyrus'),\n",
       " ('2018', 'Halesia'),\n",
       " ('2018', 'Prunus'),\n",
       " ('2018', 'Prunus'),\n",
       " ('2018', 'Malus'),\n",
       " ('2018', 'Amélanchier'),\n",
       " ('2018', 'Prunus'),\n",
       " ('2018', 'Prunus'),\n",
       " ('2018', 'Prunus'),\n",
       " ('2018', 'Prunus'),\n",
       " ('2018', 'Prunus'),\n",
       " ('2018', 'Prunus'),\n",
       " ('2018', 'Prunus'),\n",
       " ('2018', 'Ligustrum'),\n",
       " ('2018', 'Ligustrum'),\n",
       " ('2018', 'Ligustrum'),\n",
       " ('2018', 'Salix'),\n",
       " ('2018', 'Salix'),\n",
       " ('2018', 'Salix'),\n",
       " ('2018', 'Platanus'),\n",
       " ('2018', 'Platanus'),\n",
       " ('2018', 'Platanus'),\n",
       " ('2018', 'Platanus'),\n",
       " ('2018', 'Platanus'),\n",
       " ('2018', 'Platanus'),\n",
       " ('2018', 'Platanus'),\n",
       " ('2018', 'Platanus'),\n",
       " ('2018', 'Platanus'),\n",
       " ('2018', 'Platanus'),\n",
       " ('2018', 'Acer'),\n",
       " ('2018', 'Acer'),\n",
       " ('2018', 'Acer'),\n",
       " ('2018', 'Acer'),\n",
       " ('2018', 'Acer'),\n",
       " ('2018', 'Juglans'),\n",
       " ('2018', 'Acer'),\n",
       " ('2018', 'Acer'),\n",
       " ('2018', 'Fraxinus'),\n",
       " ('2018', 'Amélanchier'),\n",
       " ('2018', 'Acer'),\n",
       " ('2018', 'Acer'),\n",
       " ('2018', 'Cedrela'),\n",
       " ('2018', 'Salix'),\n",
       " ('2018', 'Salix'),\n",
       " ('2018', 'Salix'),\n",
       " ('2018', 'Salix'),\n",
       " ('2018', 'Salix'),\n",
       " ('2018', 'Salix'),\n",
       " ('2018', 'Salix'),\n",
       " ('2018', 'Malus'),\n",
       " ('2018', 'Pyrus'),\n",
       " ('2018', 'Malus'),\n",
       " ('2018', 'Pyrus'),\n",
       " ('2018', 'Malus'),\n",
       " ('2018', 'Platanus'),\n",
       " ('2018', 'Chionanthus'),\n",
       " ('2018', 'Chionanthus'),\n",
       " ('2018', 'Chionanthus'),\n",
       " ('2018', 'Chionanthus'),\n",
       " ('2018', 'Fagus'),\n",
       " ('2018', 'Fagus'),\n",
       " ('2018', 'Fagus'),\n",
       " ('2018', 'Acer'),\n",
       " ('2018', 'Acer'),\n",
       " ('2018', 'Acer'),\n",
       " ('2018', 'Acer'),\n",
       " ('2018', 'Acer'),\n",
       " ('2018', 'Acer'),\n",
       " ('2018', 'Acer'),\n",
       " ('2018', 'Pyrus'),\n",
       " ('2018', 'Pyrus'),\n",
       " ('2018', 'Pyrus'),\n",
       " ('2018', 'Acer'),\n",
       " ('2018', 'Acer'),\n",
       " ('2018', 'Acer'),\n",
       " ('2018', 'Prunus'),\n",
       " ('2018', 'Magnolia'),\n",
       " ('2018', 'Acer'),\n",
       " ('2018', 'Zelkova'),\n",
       " ('2018', 'Pteroceltis'),\n",
       " ('2018', 'Quercus'),\n",
       " ('2018', 'Magnolia'),\n",
       " ('2017', 'Tilia'),\n",
       " ('2017', 'Tilia'),\n",
       " ('2017', 'Tilia'),\n",
       " ('2017', 'Quercus'),\n",
       " ('2017', ''),\n",
       " ('2017', 'Chamaecyparis'),\n",
       " ('2017', 'Chamaecyparis'),\n",
       " ('2017', 'Zelkova'),\n",
       " ('2017', 'Zelkova'),\n",
       " ('2017', 'Zelkova'),\n",
       " ('2017', 'Zelkova'),\n",
       " ('2017', 'Zelkova'),\n",
       " ('2017', 'Zelkova'),\n",
       " ('2017', 'Zelkova'),\n",
       " ('2017', ''),\n",
       " ('2017', 'Pinus'),\n",
       " ('2017', 'Pinus'),\n",
       " ('2017', 'Betula'),\n",
       " ('2017', 'Betula'),\n",
       " ('2017', 'Acer'),\n",
       " ('2017', 'Betula'),\n",
       " ('2017', 'Magnolia'),\n",
       " ('2017', 'Magnolia'),\n",
       " ('2017', 'Magnolia'),\n",
       " ('2017', 'Magnolia'),\n",
       " ('2017', 'Magnolia'),\n",
       " ('2017', 'Magnolia'),\n",
       " ('2017', 'Gleditsia'),\n",
       " ('2017', 'Gleditsia'),\n",
       " ('2017', 'Gleditsia'),\n",
       " ('2017', 'Zelkova'),\n",
       " ...]"
      ]
     },
     "execution_count": 94,
     "metadata": {},
     "output_type": "execute_result"
    }
   ],
   "source": [
    "yearBotaList = concat_year_type(colYearTree, colBota)\n",
    "sortedyearBotaList = sort_by_year(yearBotaList)\n",
    "sortedyearBotaList"
   ]
  },
  {
   "cell_type": "markdown",
   "id": "cc8fd13e",
   "metadata": {},
   "source": [
    "## Graphic representation"
   ]
  },
  {
   "cell_type": "code",
   "execution_count": 95,
   "id": "62f1784d",
   "metadata": {},
   "outputs": [
    {
     "name": "stdout",
     "output_type": "stream",
     "text": [
      "size year|number : 31620 and size of year|type : 31620\n"
     ]
    }
   ],
   "source": [
    "data = [sortedTreeTupleList, sortedyearBotaList]\n",
    "print(f\"size year|number : {len(sortedyearBotaList)} and size of year|type : {len(sortedyearBotaList)}\")\n"
   ]
  },
  {
   "cell_type": "markdown",
   "id": "dbfdb58f",
   "metadata": {},
   "source": [
    "## Create DataSet"
   ]
  },
  {
   "cell_type": "code",
   "execution_count": 96,
   "id": "e4c1d77c",
   "metadata": {},
   "outputs": [],
   "source": [
    "years = [int(d[0]) for d in sortedTreeTupleList[1:]]\n",
    "number = [d[1] for d in sortedTreeTupleList[1:]]\n",
    "Type = [d[1] for d in sortedyearBotaList[1:]]"
   ]
  },
  {
   "cell_type": "markdown",
   "id": "45077a29",
   "metadata": {},
   "source": [
    "## Plot : "
   ]
  },
  {
   "cell_type": "code",
   "execution_count": 97,
   "id": "a06d25ae",
   "metadata": {},
   "outputs": [
    {
     "name": "stdout",
     "output_type": "stream",
     "text": [
      "['MISSING', 'ESP14073', 'ESP14073', 'VEG', 'VEGETATION', 'ESP01', 'Arbre', 'ESP151', 'Arbre de voirie', 'ESP336', 'R M Gontard angle M Deprez', '2', 'AR14073', 'Prunus', 'serrulata', '', 'Arbre adulte', '', '', '1995', '', '', '', '', '', '', '', '', '', '', 'Grenoble Alpes Métropole', '{\"type\":\"Point\",\"coordinates\":[5.72422659146747,45.1920566916671]}'] was already added...\n",
      "31619 is the last rows of the dataset and should start with 'MISSING' value\n"
     ]
    }
   ],
   "source": [
    "dataset\n",
    "rawData = add_missing_value(dataset)"
   ]
  },
  {
   "cell_type": "code",
   "execution_count": 106,
   "id": "3f09b3c1",
   "metadata": {},
   "outputs": [],
   "source": [
    "columnNameDict = get_dict_colName_colNum(rawData)\n",
    "#columnNameDict"
   ]
  },
  {
   "cell_type": "code",
   "execution_count": 107,
   "id": "4dbe8e7a",
   "metadata": {},
   "outputs": [],
   "source": [
    "colAnneePlantation = get_col_values(colName=\"ANNEEDEPLANTATION\", data=rawData)\n",
    "colGenreBota = get_col_values(colName=\"GENRE_BOTA\", data=rawData)"
   ]
  },
  {
   "cell_type": "code",
   "execution_count": 108,
   "id": "0aa67e5c",
   "metadata": {},
   "outputs": [
    {
     "data": {
      "text/plain": [
       "(array([1., 2., 3., 2., 1.]),\n",
       " array([1. , 1.8, 2.6, 3.4, 4.2, 5. ]),\n",
       " <BarContainer object of 5 artists>)"
      ]
     },
     "execution_count": 108,
     "metadata": {},
     "output_type": "execute_result"
    },
    {
     "data": {
      "image/png": "[encoded data removed]",
      "text/plain": [
       "<Figure size 640x480 with 1 Axes>"
      ]
     },
     "metadata": {},
     "output_type": "display_data"
    }
   ],
   "source": []
  },
  {
   "cell_type": "code",
   "execution_count": null,
   "id": "a2b43243",
   "metadata": {},
   "outputs": [],
   "source": []
  },
  {
   "cell_type": "code",
   "execution_count": null,
   "id": "9b478f7d",
   "metadata": {},
   "outputs": [],
   "source": []
  },
  {
   "cell_type": "code",
   "execution_count": null,
   "id": "e47b2778",
   "metadata": {},
   "outputs": [],
   "source": []
  },
  {
   "cell_type": "code",
   "execution_count": null,
   "id": "bb37e276",
   "metadata": {},
   "outputs": [],
   "source": []
  }
 ],
 "metadata": {
  "kernelspec": {
   "display_name": "Python 3 (ipykernel)",
   "language": "python",
   "name": "python3"
  },
  "language_info": {
   "codemirror_mode": {
    "name": "ipython",
    "version": 3
   },
   "file_extension": ".py",
   "mimetype": "text/x-python",
   "name": "python",
   "nbconvert_exporter": "python",
   "pygments_lexer": "ipython3",
   "version": "3.9.13"
  }
 },
 "nbformat": 4,
 "nbformat_minor": 5
}
